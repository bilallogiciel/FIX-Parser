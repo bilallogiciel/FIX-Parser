{
  "nbformat": 4,
  "nbformat_minor": 0,
  "metadata": {
    "colab": {
      "name": "FIX Parser.ipynb",
      "provenance": [],
      "collapsed_sections": [],
      "mount_file_id": "1_VPMY2qE97oawKGfsm9GodXX71lNnXUg",
      "authorship_tag": "ABX9TyOZQbHzpRwGvlbCVdUmYon4",
      "include_colab_link": true
    },
    "kernelspec": {
      "name": "python3",
      "display_name": "Python 3"
    }
  },
  "cells": [
    {
      "cell_type": "markdown",
      "metadata": {
        "id": "view-in-github",
        "colab_type": "text"
      },
      "source": [
        "<a href=\"https://colab.research.google.com/github/bilallogiciel/FIX-Parser/blob/main/FIX_Parser.ipynb\" target=\"_parent\"><img src=\"https://colab.research.google.com/assets/colab-badge.svg\" alt=\"Open In Colab\"/></a>"
      ]
    },
    {
      "cell_type": "code",
      "metadata": {
        "colab": {
          "base_uri": "https://localhost:8080/"
        },
        "id": "M2CD-wn_iRQy",
        "outputId": "99c4b10f-d097-4053-a6fd-04953a3012ca"
      },
      "source": [
        "from google.colab import drive\r\n",
        "drive.mount('/content/drive')   "
      ],
      "execution_count": 1,
      "outputs": [
        {
          "output_type": "stream",
          "text": [
            "Drive already mounted at /content/drive; to attempt to forcibly remount, call drive.mount(\"/content/drive\", force_remount=True).\n"
          ],
          "name": "stdout"
        }
      ]
    },
    {
      "cell_type": "code",
      "metadata": {
        "id": "Q4yfNwwd8YZe"
      },
      "source": [
        "dataFolder = '/content/drive/MyDrive/FIX-Messages(1 month)/' "
      ],
      "execution_count": 2,
      "outputs": []
    },
    {
      "cell_type": "code",
      "metadata": {
        "colab": {
          "base_uri": "https://localhost:8080/"
        },
        "id": "uyfTeGqenrSL",
        "outputId": "6bb438be-1c8c-49c5-8865-d80c444fc30c"
      },
      "source": [
        "import pandas as pd\r\n",
        "import os\r\n",
        "import glob\r\n",
        "pd.options.mode.chained_assignment = None\r\n",
        "dataFiles = []\r\n",
        "txt_files = glob.glob(dataFolder + \"*.txt\")\r\n",
        "#print(txt_files)\r\n",
        "for filename in txt_files:  \r\n",
        "    print(\"Reading File: \", filename)\r\n",
        "    data = pd.read_fwf(filename, header=None)\r\n",
        "    dataFiles.append(data)\r\n",
        "\r\n",
        "#print(dataFiles[0])"
      ],
      "execution_count": 34,
      "outputs": [
        {
          "output_type": "stream",
          "text": [
            "Reading File:  /content/drive/MyDrive/FIX-Messages(1 month)/2020-11-02 Messages.txt\n",
            "Reading File:  /content/drive/MyDrive/FIX-Messages(1 month)/2020-11-06 Messages.txt\n",
            "Reading File:  /content/drive/MyDrive/FIX-Messages(1 month)/2020-11-04 Messages.txt\n",
            "Reading File:  /content/drive/MyDrive/FIX-Messages(1 month)/2020-11-10 Messages.txt\n",
            "Reading File:  /content/drive/MyDrive/FIX-Messages(1 month)/2020-11-05 Messages.txt\n",
            "Reading File:  /content/drive/MyDrive/FIX-Messages(1 month)/2020-11-09 Messages.txt\n",
            "Reading File:  /content/drive/MyDrive/FIX-Messages(1 month)/2020-11-03 Messages.txt\n",
            "Reading File:  /content/drive/MyDrive/FIX-Messages(1 month)/2020-11-19 Messages.txt\n",
            "Reading File:  /content/drive/MyDrive/FIX-Messages(1 month)/2020-12-01 Messages.txt\n",
            "Reading File:  /content/drive/MyDrive/FIX-Messages(1 month)/2020-11-18 Messages.txt\n",
            "Reading File:  /content/drive/MyDrive/FIX-Messages(1 month)/2020-11-24 Messages.txt\n",
            "Reading File:  /content/drive/MyDrive/FIX-Messages(1 month)/2020-11-27 Messages.txt\n",
            "Reading File:  /content/drive/MyDrive/FIX-Messages(1 month)/2020-11-20 Messages.txt\n",
            "Reading File:  /content/drive/MyDrive/FIX-Messages(1 month)/2020-11-11 Messages.txt\n",
            "Reading File:  /content/drive/MyDrive/FIX-Messages(1 month)/2020-11-12 Messages.txt\n",
            "Reading File:  /content/drive/MyDrive/FIX-Messages(1 month)/2020-11-13 Messages.txt\n",
            "Reading File:  /content/drive/MyDrive/FIX-Messages(1 month)/2020-11-30 Messages.txt\n",
            "Reading File:  /content/drive/MyDrive/FIX-Messages(1 month)/2020-11-25 Messages.txt\n",
            "Reading File:  /content/drive/MyDrive/FIX-Messages(1 month)/2020-11-23 Messages.txt\n",
            "Reading File:  /content/drive/MyDrive/FIX-Messages(1 month)/2020-11-16 Messages.txt\n",
            "Reading File:  /content/drive/MyDrive/FIX-Messages(1 month)/2020-11-17 Messages.txt\n"
          ],
          "name": "stdout"
        }
      ]
    },
    {
      "cell_type": "code",
      "metadata": {
        "id": "uqOhbixesXR_"
      },
      "source": [
        "def GetTagValue(msg, tag):  \r\n",
        "    splits = msg.split(\"\\001\")\r\n",
        "    for s in splits:\r\n",
        "        temp = s.split(\"=\")\r\n",
        "        #print(len(temp))\r\n",
        "        if temp[0] == tag:\r\n",
        "            if (len(temp)>1):    #For handling missing values in tags\r\n",
        "                return temp[1]\r\n",
        "    return -1       \r\n",
        "        "
      ],
      "execution_count": 4,
      "outputs": []
    },
    {
      "cell_type": "code",
      "metadata": {
        "id": "XFmnQ0cWHmem"
      },
      "source": [
        "def ToDataFrame(dataFiles, tags):\r\n",
        "    dataChunks = []\r\n",
        "\r\n",
        "    for data in dataFiles:\r\n",
        "        rows = []\r\n",
        "\r\n",
        "        for i in range(len(data)):\r\n",
        "            row = []\r\n",
        "\r\n",
        "            for tag in tags:\r\n",
        "                msg = data.at[i,0]\r\n",
        "                \r\n",
        "                value = GetTagValue(msg, tag)\r\n",
        "                #print(\"msg num: \", i, \"tag: \", tag, \"value: \", value)\r\n",
        "                row.append(value)\r\n",
        "\r\n",
        "            rows.append(row)\r\n",
        "\r\n",
        "        dataChunks.append(pd.DataFrame(rows, columns = tags))\r\n",
        "        \r\n",
        "    dataFrame = pd.concat(dataChunks, ignore_index=True)\r\n",
        "    return dataFrame"
      ],
      "execution_count": 5,
      "outputs": []
    },
    {
      "cell_type": "code",
      "metadata": {
        "colab": {
          "base_uri": "https://localhost:8080/"
        },
        "id": "iICDt_l6skal",
        "outputId": "487d7411-13d5-4050-8095-a4a3d72510a8"
      },
      "source": [
        "tags = ['52','55', '109', '35', '39', '100']\r\n",
        "dataFrame = ToDataFrame(dataFiles, tags)\r\n",
        "print(dataFrame)"
      ],
      "execution_count": 35,
      "outputs": [
        {
          "output_type": "stream",
          "text": [
            "                           52    55       109 35  39        100\n",
            "0       20201102-13:33:09.955   SSO    ETFARB  D  -1  WEX-BESTX\n",
            "1       20201102-13:33:10.049   SSO    ETFARB  8   0  WEX-BESTX\n",
            "2       20201102-13:33:11.591   SSO    ETFARB  8   2  WEX-BESTX\n",
            "3       20201102-13:33:19.812   QLD    ETFARB  D  -1  WEX-BESTX\n",
            "4       20201102-13:33:19.988   QLD    ETFARB  8   0  WEX-BESTX\n",
            "...                       ...   ...       ... ..  ..        ...\n",
            "373458  20201117-21:14:34.857  SPXW  OPSPRTRD  D  -1  WEX-SWEEP\n",
            "373459  20201117-21:14:34.867  SPXW  OPSPRTRD  8   0  WEX-SWEEP\n",
            "373460  20201117-21:14:34.868  SPXW  OPSPRTRD  8   2  WEX-SWEEP\n",
            "373461  20201117-21:15:01.299  SPXW  OPSPRTRD  D  -1  WEX-SWEEP\n",
            "373462  20201117-21:15:01.325  SPXW  OPSPRTRD  8   8  WEX-SWEEP\n",
            "\n",
            "[373463 rows x 6 columns]\n"
          ],
          "name": "stdout"
        }
      ]
    },
    {
      "cell_type": "markdown",
      "metadata": {
        "id": "Gaffkf566wMF"
      },
      "source": [
        ""
      ]
    },
    {
      "cell_type": "code",
      "metadata": {
        "id": "s15z3T0gr0h-",
        "colab": {
          "base_uri": "https://localhost:8080/",
          "height": 704
        },
        "outputId": "21185726-b60d-4370-a2d3-f938edf07dcd"
      },
      "source": [
        "#How many accounts have traded a particular security\r\n",
        "#Most active traded accounts.\r\n",
        "#Least active traded accounts.\r\n",
        "\r\n",
        "#Finding the trades\r\n",
        "#Tag 35=8 OR Tag 39=1 OR Tag 39=2\r\n",
        "#Change 35=D later\r\n",
        "Trades_df = dataFrame[(dataFrame['35'] == 'D')]\r\n",
        "#print(Trades_df)\r\n",
        "\r\n",
        "#Droping messages with missing account ID\r\n",
        "#Trades_df = Trades_df.drop(Trades_df[Trades_df['109'] == -1].index)\r\n",
        "#Trades_df = Trades_df.drop(Trades_df[Trades_df['109'] == ''].index)\r\n",
        "\r\n",
        "#Renaming Missing account numbers to DEFAULT\r\n",
        "Trades_df['109'] = Trades_df['109'].replace(['',-1],'DEFAULT')\r\n",
        "\r\n",
        "#Taking out ONLY Account ID and Security out of dataframe\r\n",
        "accounts_symbols = Trades_df.filter(['109','55'], axis=1)\r\n",
        "#Finding the number of unique accounts\r\n",
        "accounts = accounts_symbols['109'].unique()\r\n",
        "\r\n",
        "#Grouping by Account ID and summing each security with it\r\n",
        "accounts_symbols_count = []\r\n",
        "for account in accounts:\r\n",
        "    accounts_symbols_count.append(accounts_symbols[accounts_symbols['109'] == account].groupby(['55']).count())\r\n",
        "\r\n",
        "#Finding Most traded Account, Min traded Account\r\n",
        "most_trades = 0\r\n",
        "most_trade_acc = 0\r\n",
        "min_trade = accounts_symbols_count[0]['109'].sum()\r\n",
        "min_trade_acc = 0\r\n",
        "for i in range (0,len(accounts)):\r\n",
        "    total = accounts_symbols_count[i]['109'].sum()\r\n",
        "    if  (total > most_trades):\r\n",
        "        most_trades = total\r\n",
        "        most_trade_acc = accounts[i]\r\n",
        "\r\n",
        "    if  (total < min_trade):\r\n",
        "        min_trade = total\r\n",
        "        min_trade_acc = accounts[i]\r\n",
        "\r\n",
        "print(\"Account with most trades: \", most_trade_acc)\r\n",
        "print(\"Number of trades: \", most_trades)\r\n",
        "print(\"\\nAccount with least trades: \", min_trade_acc)\r\n",
        "print(\"Number of trades: \", min_trade)\r\n",
        "\r\n",
        "#Displaying The results\r\n",
        "for i in range(0,len(accounts)):\r\n",
        "    accounts_symbols_count[i] = accounts_symbols_count[i].sort_values(by='109', ascending=False)\r\n",
        "    total = accounts_symbols_count[i]['109'].sum()\r\n",
        "    accounts_symbols_count[i] = accounts_symbols_count[i].transpose()\r\n",
        "    accounts_symbols_count[i].reset_index(drop=True, inplace=True)\r\n",
        "    print(\"\\nAccount ID:\", accounts[i], \"Total Trades: \", total) \r\n",
        "    display(accounts_symbols_count[i])\r\n",
        "    "
      ],
      "execution_count": 36,
      "outputs": [
        {
          "output_type": "stream",
          "text": [
            "Account with most trades:  ETFARB\n",
            "Number of trades:  77562\n",
            "\n",
            "Account with least trades:  EMS-JSC\n",
            "Number of trades:  5\n",
            "\n",
            "Account ID: ETFARB Total Trades:  77562\n"
          ],
          "name": "stdout"
        },
        {
          "output_type": "display_data",
          "data": {
            "text/html": [
              "<div>\n",
              "<style scoped>\n",
              "    .dataframe tbody tr th:only-of-type {\n",
              "        vertical-align: middle;\n",
              "    }\n",
              "\n",
              "    .dataframe tbody tr th {\n",
              "        vertical-align: top;\n",
              "    }\n",
              "\n",
              "    .dataframe thead th {\n",
              "        text-align: right;\n",
              "    }\n",
              "</style>\n",
              "<table border=\"1\" class=\"dataframe\">\n",
              "  <thead>\n",
              "    <tr style=\"text-align: right;\">\n",
              "      <th>55</th>\n",
              "      <th>SSO</th>\n",
              "      <th>QLD</th>\n",
              "      <th>DBO</th>\n",
              "      <th>VXX</th>\n",
              "      <th>SOXX</th>\n",
              "      <th>FXI</th>\n",
              "      <th>YINN</th>\n",
              "      <th>CHAD</th>\n",
              "      <th>SVXY</th>\n",
              "      <th>TBF</th>\n",
              "      <th>UPRO</th>\n",
              "      <th>UVXY</th>\n",
              "      <th>TQQQ</th>\n",
              "      <th>GLD</th>\n",
              "      <th>UCO</th>\n",
              "      <th>SOXL</th>\n",
              "      <th>ASHR</th>\n",
              "      <th>USO</th>\n",
              "      <th>UGL</th>\n",
              "      <th>VIXY</th>\n",
              "      <th>SJNK</th>\n",
              "      <th>SHYG</th>\n",
              "      <th>TLT</th>\n",
              "      <th>TMV</th>\n",
              "      <th>TBT</th>\n",
              "    </tr>\n",
              "  </thead>\n",
              "  <tbody>\n",
              "    <tr>\n",
              "      <th>0</th>\n",
              "      <td>40300</td>\n",
              "      <td>12766</td>\n",
              "      <td>7379</td>\n",
              "      <td>7304</td>\n",
              "      <td>2235</td>\n",
              "      <td>1722</td>\n",
              "      <td>1521</td>\n",
              "      <td>1206</td>\n",
              "      <td>761</td>\n",
              "      <td>717</td>\n",
              "      <td>375</td>\n",
              "      <td>203</td>\n",
              "      <td>202</td>\n",
              "      <td>200</td>\n",
              "      <td>184</td>\n",
              "      <td>147</td>\n",
              "      <td>90</td>\n",
              "      <td>71</td>\n",
              "      <td>53</td>\n",
              "      <td>52</td>\n",
              "      <td>42</td>\n",
              "      <td>12</td>\n",
              "      <td>12</td>\n",
              "      <td>6</td>\n",
              "      <td>2</td>\n",
              "    </tr>\n",
              "  </tbody>\n",
              "</table>\n",
              "</div>"
            ],
            "text/plain": [
              "55    SSO    QLD   DBO   VXX  SOXX   FXI  ...  VIXY  SJNK  SHYG  TLT  TMV  TBT\n",
              "0   40300  12766  7379  7304  2235  1722  ...    52    42    12   12    6    2\n",
              "\n",
              "[1 rows x 25 columns]"
            ]
          },
          "metadata": {
            "tags": []
          }
        },
        {
          "output_type": "stream",
          "text": [
            "\n",
            "Account ID: CEC Total Trades:  86\n"
          ],
          "name": "stdout"
        },
        {
          "output_type": "display_data",
          "data": {
            "text/html": [
              "<div>\n",
              "<style scoped>\n",
              "    .dataframe tbody tr th:only-of-type {\n",
              "        vertical-align: middle;\n",
              "    }\n",
              "\n",
              "    .dataframe tbody tr th {\n",
              "        vertical-align: top;\n",
              "    }\n",
              "\n",
              "    .dataframe thead th {\n",
              "        text-align: right;\n",
              "    }\n",
              "</style>\n",
              "<table border=\"1\" class=\"dataframe\">\n",
              "  <thead>\n",
              "    <tr style=\"text-align: right;\">\n",
              "      <th>55</th>\n",
              "      <th>ZVZZT</th>\n",
              "      <th>BA</th>\n",
              "      <th>SLG</th>\n",
              "      <th>COP</th>\n",
              "      <th>CVS</th>\n",
              "      <th>UVV</th>\n",
              "      <th>WMB</th>\n",
              "      <th>JBLU</th>\n",
              "      <th>BSX</th>\n",
              "      <th>UDR</th>\n",
              "      <th>ALL</th>\n",
              "      <th>MET</th>\n",
              "      <th>PRU</th>\n",
              "      <th>MCK</th>\n",
              "      <th>MMC</th>\n",
              "      <th>MMP</th>\n",
              "      <th>MO</th>\n",
              "      <th>MUR</th>\n",
              "      <th>LPX</th>\n",
              "      <th>NI</th>\n",
              "      <th>OKE</th>\n",
              "      <th>WRI</th>\n",
              "      <th>RAD</th>\n",
              "      <th>XOM</th>\n",
              "      <th>SRE</th>\n",
              "      <th>L</th>\n",
              "      <th>T</th>\n",
              "      <th>TAP</th>\n",
              "      <th>TRV</th>\n",
              "      <th>USM</th>\n",
              "      <th>WFC</th>\n",
              "      <th>WHR</th>\n",
              "      <th>LLY</th>\n",
              "      <th>ADM</th>\n",
              "      <th>KR</th>\n",
              "      <th>KIM</th>\n",
              "      <th>AIG</th>\n",
              "      <th>AMGN</th>\n",
              "      <th>AMKR</th>\n",
              "      <th>AVB</th>\n",
              "      <th>AVT</th>\n",
              "      <th>BAC</th>\n",
              "      <th>BMY</th>\n",
              "      <th>C</th>\n",
              "      <th>CAH</th>\n",
              "      <th>CB</th>\n",
              "      <th>CI</th>\n",
              "      <th>CSCO</th>\n",
              "      <th>CVX</th>\n",
              "      <th>DHR</th>\n",
              "      <th>DIS</th>\n",
              "      <th>EMN</th>\n",
              "      <th>GD</th>\n",
              "      <th>GS</th>\n",
              "      <th>HAS</th>\n",
              "      <th>HIG</th>\n",
              "      <th>HR</th>\n",
              "      <th>JPM</th>\n",
              "      <th>AEP</th>\n",
              "      <th>JWN</th>\n",
              "    </tr>\n",
              "  </thead>\n",
              "  <tbody>\n",
              "    <tr>\n",
              "      <th>0</th>\n",
              "      <td>14</td>\n",
              "      <td>3</td>\n",
              "      <td>3</td>\n",
              "      <td>3</td>\n",
              "      <td>2</td>\n",
              "      <td>2</td>\n",
              "      <td>2</td>\n",
              "      <td>2</td>\n",
              "      <td>2</td>\n",
              "      <td>2</td>\n",
              "      <td>2</td>\n",
              "      <td>1</td>\n",
              "      <td>1</td>\n",
              "      <td>1</td>\n",
              "      <td>1</td>\n",
              "      <td>1</td>\n",
              "      <td>1</td>\n",
              "      <td>1</td>\n",
              "      <td>1</td>\n",
              "      <td>1</td>\n",
              "      <td>1</td>\n",
              "      <td>1</td>\n",
              "      <td>1</td>\n",
              "      <td>1</td>\n",
              "      <td>1</td>\n",
              "      <td>1</td>\n",
              "      <td>1</td>\n",
              "      <td>1</td>\n",
              "      <td>1</td>\n",
              "      <td>1</td>\n",
              "      <td>1</td>\n",
              "      <td>1</td>\n",
              "      <td>1</td>\n",
              "      <td>1</td>\n",
              "      <td>1</td>\n",
              "      <td>1</td>\n",
              "      <td>1</td>\n",
              "      <td>1</td>\n",
              "      <td>1</td>\n",
              "      <td>1</td>\n",
              "      <td>1</td>\n",
              "      <td>1</td>\n",
              "      <td>1</td>\n",
              "      <td>1</td>\n",
              "      <td>1</td>\n",
              "      <td>1</td>\n",
              "      <td>1</td>\n",
              "      <td>1</td>\n",
              "      <td>1</td>\n",
              "      <td>1</td>\n",
              "      <td>1</td>\n",
              "      <td>1</td>\n",
              "      <td>1</td>\n",
              "      <td>1</td>\n",
              "      <td>1</td>\n",
              "      <td>1</td>\n",
              "      <td>1</td>\n",
              "      <td>1</td>\n",
              "      <td>1</td>\n",
              "      <td>1</td>\n",
              "    </tr>\n",
              "  </tbody>\n",
              "</table>\n",
              "</div>"
            ],
            "text/plain": [
              "55  ZVZZT  BA  SLG  COP  CVS  UVV  WMB  ...  GS  HAS  HIG  HR  JPM  AEP  JWN\n",
              "0      14   3    3    3    2    2    2  ...   1    1    1   1    1    1    1\n",
              "\n",
              "[1 rows x 60 columns]"
            ]
          },
          "metadata": {
            "tags": []
          }
        },
        {
          "output_type": "stream",
          "text": [
            "\n",
            "Account ID: REVCON Total Trades:  2376\n"
          ],
          "name": "stdout"
        },
        {
          "output_type": "display_data",
          "data": {
            "text/html": [
              "<div>\n",
              "<style scoped>\n",
              "    .dataframe tbody tr th:only-of-type {\n",
              "        vertical-align: middle;\n",
              "    }\n",
              "\n",
              "    .dataframe tbody tr th {\n",
              "        vertical-align: top;\n",
              "    }\n",
              "\n",
              "    .dataframe thead th {\n",
              "        text-align: right;\n",
              "    }\n",
              "</style>\n",
              "<table border=\"1\" class=\"dataframe\">\n",
              "  <thead>\n",
              "    <tr style=\"text-align: right;\">\n",
              "      <th>55</th>\n",
              "      <th>QS</th>\n",
              "      <th>SBE</th>\n",
              "      <th>FSR</th>\n",
              "      <th>RIDE</th>\n",
              "      <th>BLNK</th>\n",
              "      <th>TLRY</th>\n",
              "      <th>WKHS</th>\n",
              "      <th>JWN</th>\n",
              "      <th>XPEV</th>\n",
              "      <th>GME</th>\n",
              "      <th>ACB</th>\n",
              "      <th>CLVS</th>\n",
              "      <th>NKLA</th>\n",
              "      <th>LMND</th>\n",
              "      <th>HTZGQ</th>\n",
              "      <th>HYLN</th>\n",
              "      <th>KNDI</th>\n",
              "      <th>SPCE</th>\n",
              "      <th>NNOX</th>\n",
              "      <th>SRNE</th>\n",
              "      <th>INO</th>\n",
              "      <th>SDC</th>\n",
              "      <th>PLTR</th>\n",
              "      <th>TTCF</th>\n",
              "      <th>RKT</th>\n",
              "      <th>GRWG</th>\n",
              "      <th>VXRT</th>\n",
              "      <th>PIC</th>\n",
              "      <th>KODK</th>\n",
              "    </tr>\n",
              "  </thead>\n",
              "  <tbody>\n",
              "    <tr>\n",
              "      <th>0</th>\n",
              "      <td>600</td>\n",
              "      <td>526</td>\n",
              "      <td>392</td>\n",
              "      <td>162</td>\n",
              "      <td>91</td>\n",
              "      <td>82</td>\n",
              "      <td>73</td>\n",
              "      <td>61</td>\n",
              "      <td>57</td>\n",
              "      <td>54</td>\n",
              "      <td>51</td>\n",
              "      <td>44</td>\n",
              "      <td>41</td>\n",
              "      <td>35</td>\n",
              "      <td>32</td>\n",
              "      <td>22</td>\n",
              "      <td>10</td>\n",
              "      <td>9</td>\n",
              "      <td>8</td>\n",
              "      <td>7</td>\n",
              "      <td>4</td>\n",
              "      <td>3</td>\n",
              "      <td>3</td>\n",
              "      <td>3</td>\n",
              "      <td>2</td>\n",
              "      <td>1</td>\n",
              "      <td>1</td>\n",
              "      <td>1</td>\n",
              "      <td>1</td>\n",
              "    </tr>\n",
              "  </tbody>\n",
              "</table>\n",
              "</div>"
            ],
            "text/plain": [
              "55   QS  SBE  FSR  RIDE  BLNK  TLRY  ...  TTCF  RKT  GRWG  VXRT  PIC  KODK\n",
              "0   600  526  392   162    91    82  ...     3    2     1     1    1     1\n",
              "\n",
              "[1 rows x 29 columns]"
            ]
          },
          "metadata": {
            "tags": []
          }
        },
        {
          "output_type": "stream",
          "text": [
            "\n",
            "Account ID: OPSPRTRD Total Trades:  1975\n"
          ],
          "name": "stdout"
        },
        {
          "output_type": "display_data",
          "data": {
            "text/html": [
              "<div>\n",
              "<style scoped>\n",
              "    .dataframe tbody tr th:only-of-type {\n",
              "        vertical-align: middle;\n",
              "    }\n",
              "\n",
              "    .dataframe tbody tr th {\n",
              "        vertical-align: top;\n",
              "    }\n",
              "\n",
              "    .dataframe thead th {\n",
              "        text-align: right;\n",
              "    }\n",
              "</style>\n",
              "<table border=\"1\" class=\"dataframe\">\n",
              "  <thead>\n",
              "    <tr style=\"text-align: right;\">\n",
              "      <th>55</th>\n",
              "      <th>TSLA</th>\n",
              "      <th>AAPL</th>\n",
              "      <th>SPXW</th>\n",
              "      <th>AMZN</th>\n",
              "      <th>BABA</th>\n",
              "      <th>FB</th>\n",
              "      <th>BA</th>\n",
              "      <th>MSFT</th>\n",
              "      <th>OSTK</th>\n",
              "      <th>NKLA</th>\n",
              "      <th>LI</th>\n",
              "      <th>PTON</th>\n",
              "      <th>AMD</th>\n",
              "      <th>RIOT</th>\n",
              "      <th>SPX</th>\n",
              "      <th>RIDE</th>\n",
              "      <th>PANW</th>\n",
              "      <th>KNDI</th>\n",
              "      <th>GRWG</th>\n",
              "      <th>QQQ</th>\n",
              "      <th>SPCE</th>\n",
              "      <th>BIIB</th>\n",
              "      <th>PYPL</th>\n",
              "      <th>NIO</th>\n",
              "      <th>AMAT</th>\n",
              "      <th>ROKU</th>\n",
              "      <th>QCOM</th>\n",
              "      <th>NFLX</th>\n",
              "      <th>KXIN</th>\n",
              "      <th>UBER</th>\n",
              "      <th>WORK</th>\n",
              "      <th>SNDL</th>\n",
              "      <th>DDOG</th>\n",
              "      <th>NLS</th>\n",
              "      <th>MRNA</th>\n",
              "      <th>CLDR</th>\n",
              "      <th>SNOW</th>\n",
              "      <th>DKNG</th>\n",
              "      <th>SPG</th>\n",
              "      <th>SPY</th>\n",
              "      <th>ARLO</th>\n",
              "      <th>SBUX</th>\n",
              "      <th>ZM</th>\n",
              "      <th>KODK</th>\n",
              "      <th>DIS</th>\n",
              "      <th>F</th>\n",
              "      <th>FSR</th>\n",
              "      <th>DBX</th>\n",
              "      <th>RKT</th>\n",
              "      <th>NDXP</th>\n",
              "      <th>MU</th>\n",
              "      <th>TWTR</th>\n",
              "      <th>TSM</th>\n",
              "      <th>BLNK</th>\n",
              "      <th>ACB</th>\n",
              "      <th>GE</th>\n",
              "      <th>SLV</th>\n",
              "      <th>IWM</th>\n",
              "      <th>SOLO</th>\n",
              "      <th>RNG</th>\n",
              "    </tr>\n",
              "  </thead>\n",
              "  <tbody>\n",
              "    <tr>\n",
              "      <th>0</th>\n",
              "      <td>374</td>\n",
              "      <td>341</td>\n",
              "      <td>288</td>\n",
              "      <td>285</td>\n",
              "      <td>131</td>\n",
              "      <td>53</td>\n",
              "      <td>48</td>\n",
              "      <td>43</td>\n",
              "      <td>32</td>\n",
              "      <td>30</td>\n",
              "      <td>29</td>\n",
              "      <td>29</td>\n",
              "      <td>28</td>\n",
              "      <td>19</td>\n",
              "      <td>15</td>\n",
              "      <td>14</td>\n",
              "      <td>14</td>\n",
              "      <td>14</td>\n",
              "      <td>13</td>\n",
              "      <td>12</td>\n",
              "      <td>11</td>\n",
              "      <td>9</td>\n",
              "      <td>9</td>\n",
              "      <td>8</td>\n",
              "      <td>8</td>\n",
              "      <td>7</td>\n",
              "      <td>7</td>\n",
              "      <td>6</td>\n",
              "      <td>6</td>\n",
              "      <td>5</td>\n",
              "      <td>5</td>\n",
              "      <td>5</td>\n",
              "      <td>5</td>\n",
              "      <td>4</td>\n",
              "      <td>4</td>\n",
              "      <td>4</td>\n",
              "      <td>4</td>\n",
              "      <td>4</td>\n",
              "      <td>4</td>\n",
              "      <td>3</td>\n",
              "      <td>3</td>\n",
              "      <td>3</td>\n",
              "      <td>3</td>\n",
              "      <td>3</td>\n",
              "      <td>3</td>\n",
              "      <td>3</td>\n",
              "      <td>3</td>\n",
              "      <td>3</td>\n",
              "      <td>2</td>\n",
              "      <td>2</td>\n",
              "      <td>2</td>\n",
              "      <td>2</td>\n",
              "      <td>2</td>\n",
              "      <td>2</td>\n",
              "      <td>2</td>\n",
              "      <td>2</td>\n",
              "      <td>2</td>\n",
              "      <td>1</td>\n",
              "      <td>1</td>\n",
              "      <td>1</td>\n",
              "    </tr>\n",
              "  </tbody>\n",
              "</table>\n",
              "</div>"
            ],
            "text/plain": [
              "55  TSLA  AAPL  SPXW  AMZN  BABA  FB  BA  ...  BLNK  ACB  GE  SLV  IWM  SOLO  RNG\n",
              "0    374   341   288   285   131  53  48  ...     2    2   2    2    1     1    1\n",
              "\n",
              "[1 rows x 60 columns]"
            ]
          },
          "metadata": {
            "tags": []
          }
        },
        {
          "output_type": "stream",
          "text": [
            "\n",
            "Account ID: STOCKLOANPROP Total Trades:  29\n"
          ],
          "name": "stdout"
        },
        {
          "output_type": "display_data",
          "data": {
            "text/html": [
              "<div>\n",
              "<style scoped>\n",
              "    .dataframe tbody tr th:only-of-type {\n",
              "        vertical-align: middle;\n",
              "    }\n",
              "\n",
              "    .dataframe tbody tr th {\n",
              "        vertical-align: top;\n",
              "    }\n",
              "\n",
              "    .dataframe thead th {\n",
              "        text-align: right;\n",
              "    }\n",
              "</style>\n",
              "<table border=\"1\" class=\"dataframe\">\n",
              "  <thead>\n",
              "    <tr style=\"text-align: right;\">\n",
              "      <th>55</th>\n",
              "      <th>HYLN</th>\n",
              "    </tr>\n",
              "  </thead>\n",
              "  <tbody>\n",
              "    <tr>\n",
              "      <th>0</th>\n",
              "      <td>29</td>\n",
              "    </tr>\n",
              "  </tbody>\n",
              "</table>\n",
              "</div>"
            ],
            "text/plain": [
              "55  HYLN\n",
              "0     29"
            ]
          },
          "metadata": {
            "tags": []
          }
        },
        {
          "output_type": "stream",
          "text": [
            "\n",
            "Account ID: EMS-JSC Total Trades:  5\n"
          ],
          "name": "stdout"
        },
        {
          "output_type": "display_data",
          "data": {
            "text/html": [
              "<div>\n",
              "<style scoped>\n",
              "    .dataframe tbody tr th:only-of-type {\n",
              "        vertical-align: middle;\n",
              "    }\n",
              "\n",
              "    .dataframe tbody tr th {\n",
              "        vertical-align: top;\n",
              "    }\n",
              "\n",
              "    .dataframe thead th {\n",
              "        text-align: right;\n",
              "    }\n",
              "</style>\n",
              "<table border=\"1\" class=\"dataframe\">\n",
              "  <thead>\n",
              "    <tr style=\"text-align: right;\">\n",
              "      <th>55</th>\n",
              "      <th>SPY</th>\n",
              "    </tr>\n",
              "  </thead>\n",
              "  <tbody>\n",
              "    <tr>\n",
              "      <th>0</th>\n",
              "      <td>5</td>\n",
              "    </tr>\n",
              "  </tbody>\n",
              "</table>\n",
              "</div>"
            ],
            "text/plain": [
              "55  SPY\n",
              "0     5"
            ]
          },
          "metadata": {
            "tags": []
          }
        }
      ]
    },
    {
      "cell_type": "code",
      "metadata": {
        "id": "em1pKrFkdph5"
      },
      "source": [
        "!pip install maya"
      ],
      "execution_count": null,
      "outputs": []
    },
    {
      "cell_type": "code",
      "metadata": {
        "id": "tKjfqF_4tKog"
      },
      "source": [
        "Trades_df = Trades_df.reset_index()\r\n",
        "#display(Trades_df)"
      ],
      "execution_count": null,
      "outputs": []
    },
    {
      "cell_type": "code",
      "metadata": {
        "id": "biFWGD2Vr7dJ"
      },
      "source": [
        "from datetime import datetime\r\n",
        "import maya\r\n",
        "#display(dataFrame)\r\n",
        "times = Trades_df['52']\r\n",
        "dt = []\r\n",
        "hours = []\r\n",
        "time = []\r\n",
        "weekdays = []\r\n",
        "day = []\r\n",
        "dateTime = []\r\n",
        "\r\n",
        "for i in range(0,len(times)):\r\n",
        "    dt.append(maya.parse(times[i]).datetime())\r\n",
        "    hours.append(dt[i].hour)\r\n",
        "    weekdays.append(dt[i].strftime('%A'))\r\n",
        "    time.append(dt[i].time())\r\n",
        "    day.append(dt[i].day)\r\n",
        "    dateTime.append(dt[i].strftime('%Y-%m-%dT%H:%M:%S%z'))          #This format is recognized by Kibana.\r\n",
        "\r\n",
        "Trades_df['52'] = dateTime\r\n"
      ],
      "execution_count": 43,
      "outputs": []
    },
    {
      "cell_type": "code",
      "metadata": {
        "id": "RGphM0QmuOWQ"
      },
      "source": [
        "from collections import Counter\r\n",
        "#time_count = Counter(time)\r\n",
        "hours_count = Counter(hours)\r\n",
        "weekday_count = Counter(weekdays)\r\n",
        "days_count = Counter(day)\r\n",
        "#print(weekday_count)\r\n",
        "#print(hours_count)\r\n",
        "#print(days_count)"
      ],
      "execution_count": 44,
      "outputs": []
    },
    {
      "cell_type": "code",
      "metadata": {
        "id": "UruAXGMrr5Rg",
        "colab": {
          "base_uri": "https://localhost:8080/",
          "height": 372
        },
        "outputId": "89995870-fee1-4325-ae50-c16c58339797"
      },
      "source": [
        "#Trade activity at a given time.\r\n",
        "print(hours_count)\r\n",
        "#print(dt[0])\r\n",
        "import seaborn as sns\r\n",
        "import matplotlib.pyplot as plt\r\n",
        "\r\n",
        "sns.set(rc={'figure.figsize':(10,5)})\r\n",
        "sns.set_style(\"ticks\")\r\n",
        "\r\n",
        "plt.xlabel('Hour')\r\n",
        "plt.ylabel('Activity')\r\n",
        "plt.title('Activity-Hour')\r\n",
        "sns.lineplot(data=hours_count, marker='o')\r\n",
        "plt.show()"
      ],
      "execution_count": 45,
      "outputs": [
        {
          "output_type": "stream",
          "text": [
            "Counter({16: 15524, 15: 14921, 18: 13126, 17: 12204, 20: 10335, 19: 9806, 14: 5839, 13: 149, 21: 129})\n"
          ],
          "name": "stdout"
        },
        {
          "output_type": "display_data",
          "data": {
            "image/png": "[encoded data removed]",
            "text/plain": [
              "<Figure size 720x360 with 1 Axes>"
            ]
          },
          "metadata": {
            "tags": []
          }
        }
      ]
    },
    {
      "cell_type": "code",
      "metadata": {
        "colab": {
          "base_uri": "https://localhost:8080/",
          "height": 580
        },
        "id": "dK2a4Fz0FHSR",
        "outputId": "4eb8ce77-3259-482b-d852-be90f22d498a"
      },
      "source": [
        "#Securities traded during weekdays\r\n",
        "weekday_df = pd.DataFrame.from_dict(Counter(weekday_count), orient='index').reset_index()\r\n",
        "weekday_df.columns =['WeekDay', 'Activity']\r\n",
        "weekday_df['DayNumber'] = [0,4,2,1,3] \r\n",
        "weekday_df = weekday_df.sort_values(by='DayNumber').reset_index()\r\n",
        "del weekday_df['DayNumber']\r\n",
        "del weekday_df['index']\r\n",
        "display(weekday_df) \r\n",
        "graph = sns.lineplot(weekday_df.WeekDay, weekday_df.Activity, marker='o')\r\n",
        "plt.show()"
      ],
      "execution_count": 46,
      "outputs": [
        {
          "output_type": "display_data",
          "data": {
            "text/html": [
              "<div>\n",
              "<style scoped>\n",
              "    .dataframe tbody tr th:only-of-type {\n",
              "        vertical-align: middle;\n",
              "    }\n",
              "\n",
              "    .dataframe tbody tr th {\n",
              "        vertical-align: top;\n",
              "    }\n",
              "\n",
              "    .dataframe thead th {\n",
              "        text-align: right;\n",
              "    }\n",
              "</style>\n",
              "<table border=\"1\" class=\"dataframe\">\n",
              "  <thead>\n",
              "    <tr style=\"text-align: right;\">\n",
              "      <th></th>\n",
              "      <th>WeekDay</th>\n",
              "      <th>Activity</th>\n",
              "    </tr>\n",
              "  </thead>\n",
              "  <tbody>\n",
              "    <tr>\n",
              "      <th>0</th>\n",
              "      <td>Monday</td>\n",
              "      <td>18129</td>\n",
              "    </tr>\n",
              "    <tr>\n",
              "      <th>1</th>\n",
              "      <td>Tuesday</td>\n",
              "      <td>22235</td>\n",
              "    </tr>\n",
              "    <tr>\n",
              "      <th>2</th>\n",
              "      <td>Wednesday</td>\n",
              "      <td>13807</td>\n",
              "    </tr>\n",
              "    <tr>\n",
              "      <th>3</th>\n",
              "      <td>Thursday</td>\n",
              "      <td>13423</td>\n",
              "    </tr>\n",
              "    <tr>\n",
              "      <th>4</th>\n",
              "      <td>Friday</td>\n",
              "      <td>14439</td>\n",
              "    </tr>\n",
              "  </tbody>\n",
              "</table>\n",
              "</div>"
            ],
            "text/plain": [
              "     WeekDay  Activity\n",
              "0     Monday     18129\n",
              "1    Tuesday     22235\n",
              "2  Wednesday     13807\n",
              "3   Thursday     13423\n",
              "4     Friday     14439"
            ]
          },
          "metadata": {
            "tags": []
          }
        },
        {
          "output_type": "stream",
          "text": [
            "/usr/local/lib/python3.6/dist-packages/seaborn/_decorators.py:43: FutureWarning: Pass the following variables as keyword args: x, y. From version 0.12, the only valid positional argument will be `data`, and passing other arguments without an explicit keyword will result in an error or misinterpretation.\n",
            "  FutureWarning\n"
          ],
          "name": "stderr"
        },
        {
          "output_type": "display_data",
          "data": {
            "image/png": "[encoded data removed]",
            "text/plain": [
              "<Figure size 720x360 with 1 Axes>"
            ]
          },
          "metadata": {
            "tags": []
          }
        }
      ]
    },
    {
      "cell_type": "code",
      "metadata": {
        "id": "LBPv7attsA9Q",
        "colab": {
          "base_uri": "https://localhost:8080/",
          "height": 1000
        },
        "outputId": "521c2858-5170-4ede-ab7a-147783166642"
      },
      "source": [
        "#How many securities are traded during the day.\r\n",
        "\r\n",
        "days_df = pd.DataFrame.from_dict(Counter(days_count), orient='index').reset_index()\r\n",
        "days_df.columns =['MonthDay', 'Activity']\r\n",
        "days_df = days_df.sort_values(by='Activity', ascending = False).reset_index()\r\n",
        "del days_df['index']\r\n",
        "display(days_df)\r\n",
        "graph = sns.lineplot(days_df.MonthDay, days_df.Activity, marker='o')\r\n",
        "plt.show()"
      ],
      "execution_count": 47,
      "outputs": [
        {
          "output_type": "display_data",
          "data": {
            "text/html": [
              "<div>\n",
              "<style scoped>\n",
              "    .dataframe tbody tr th:only-of-type {\n",
              "        vertical-align: middle;\n",
              "    }\n",
              "\n",
              "    .dataframe tbody tr th {\n",
              "        vertical-align: top;\n",
              "    }\n",
              "\n",
              "    .dataframe thead th {\n",
              "        text-align: right;\n",
              "    }\n",
              "</style>\n",
              "<table border=\"1\" class=\"dataframe\">\n",
              "  <thead>\n",
              "    <tr style=\"text-align: right;\">\n",
              "      <th></th>\n",
              "      <th>MonthDay</th>\n",
              "      <th>Activity</th>\n",
              "    </tr>\n",
              "  </thead>\n",
              "  <tbody>\n",
              "    <tr>\n",
              "      <th>0</th>\n",
              "      <td>24</td>\n",
              "      <td>12448</td>\n",
              "    </tr>\n",
              "    <tr>\n",
              "      <th>1</th>\n",
              "      <td>20</td>\n",
              "      <td>10450</td>\n",
              "    </tr>\n",
              "    <tr>\n",
              "      <th>2</th>\n",
              "      <td>2</td>\n",
              "      <td>10278</td>\n",
              "    </tr>\n",
              "    <tr>\n",
              "      <th>3</th>\n",
              "      <td>4</td>\n",
              "      <td>7380</td>\n",
              "    </tr>\n",
              "    <tr>\n",
              "      <th>4</th>\n",
              "      <td>12</td>\n",
              "      <td>6855</td>\n",
              "    </tr>\n",
              "    <tr>\n",
              "      <th>5</th>\n",
              "      <td>5</td>\n",
              "      <td>5699</td>\n",
              "    </tr>\n",
              "    <tr>\n",
              "      <th>6</th>\n",
              "      <td>23</td>\n",
              "      <td>5663</td>\n",
              "    </tr>\n",
              "    <tr>\n",
              "      <th>7</th>\n",
              "      <td>3</td>\n",
              "      <td>5141</td>\n",
              "    </tr>\n",
              "    <tr>\n",
              "      <th>8</th>\n",
              "      <td>25</td>\n",
              "      <td>4193</td>\n",
              "    </tr>\n",
              "    <tr>\n",
              "      <th>9</th>\n",
              "      <td>10</td>\n",
              "      <td>2947</td>\n",
              "    </tr>\n",
              "    <tr>\n",
              "      <th>10</th>\n",
              "      <td>6</td>\n",
              "      <td>2749</td>\n",
              "    </tr>\n",
              "    <tr>\n",
              "      <th>11</th>\n",
              "      <td>11</td>\n",
              "      <td>1970</td>\n",
              "    </tr>\n",
              "    <tr>\n",
              "      <th>12</th>\n",
              "      <td>9</td>\n",
              "      <td>1045</td>\n",
              "    </tr>\n",
              "    <tr>\n",
              "      <th>13</th>\n",
              "      <td>1</td>\n",
              "      <td>1041</td>\n",
              "    </tr>\n",
              "    <tr>\n",
              "      <th>14</th>\n",
              "      <td>19</td>\n",
              "      <td>869</td>\n",
              "    </tr>\n",
              "    <tr>\n",
              "      <th>15</th>\n",
              "      <td>13</td>\n",
              "      <td>868</td>\n",
              "    </tr>\n",
              "    <tr>\n",
              "      <th>16</th>\n",
              "      <td>30</td>\n",
              "      <td>847</td>\n",
              "    </tr>\n",
              "    <tr>\n",
              "      <th>17</th>\n",
              "      <td>17</td>\n",
              "      <td>658</td>\n",
              "    </tr>\n",
              "    <tr>\n",
              "      <th>18</th>\n",
              "      <td>27</td>\n",
              "      <td>372</td>\n",
              "    </tr>\n",
              "    <tr>\n",
              "      <th>19</th>\n",
              "      <td>16</td>\n",
              "      <td>296</td>\n",
              "    </tr>\n",
              "    <tr>\n",
              "      <th>20</th>\n",
              "      <td>18</td>\n",
              "      <td>264</td>\n",
              "    </tr>\n",
              "  </tbody>\n",
              "</table>\n",
              "</div>"
            ],
            "text/plain": [
              "    MonthDay  Activity\n",
              "0         24     12448\n",
              "1         20     10450\n",
              "2          2     10278\n",
              "3          4      7380\n",
              "4         12      6855\n",
              "5          5      5699\n",
              "6         23      5663\n",
              "7          3      5141\n",
              "8         25      4193\n",
              "9         10      2947\n",
              "10         6      2749\n",
              "11        11      1970\n",
              "12         9      1045\n",
              "13         1      1041\n",
              "14        19       869\n",
              "15        13       868\n",
              "16        30       847\n",
              "17        17       658\n",
              "18        27       372\n",
              "19        16       296\n",
              "20        18       264"
            ]
          },
          "metadata": {
            "tags": []
          }
        },
        {
          "output_type": "stream",
          "text": [
            "/usr/local/lib/python3.6/dist-packages/seaborn/_decorators.py:43: FutureWarning: Pass the following variables as keyword args: x, y. From version 0.12, the only valid positional argument will be `data`, and passing other arguments without an explicit keyword will result in an error or misinterpretation.\n",
            "  FutureWarning\n"
          ],
          "name": "stderr"
        },
        {
          "output_type": "display_data",
          "data": {
            "image/png": "[encoded data removed]",
            "text/plain": [
              "<Figure size 720x360 with 1 Axes>"
            ]
          },
          "metadata": {
            "tags": []
          }
        }
      ]
    },
    {
      "cell_type": "code",
      "metadata": {
        "id": "ksibLE1hsII_",
        "colab": {
          "base_uri": "https://localhost:8080/",
          "height": 419
        },
        "outputId": "add5f70c-7bcf-4231-c1b1-079d09310373"
      },
      "source": [
        "#Most traded securities.\r\n",
        "Securities_count = Counter(Trades_df['55'])\r\n",
        "securities_df = pd.DataFrame.from_dict(Securities_count, orient = 'index').reset_index()\r\n",
        "securities_df.columns = ['Security','Activity']\r\n",
        "securities_df = securities_df.sort_values(by='Activity', ascending=False).reset_index()\r\n",
        "del securities_df['index']\r\n",
        "display(securities_df)"
      ],
      "execution_count": 49,
      "outputs": [
        {
          "output_type": "display_data",
          "data": {
            "text/html": [
              "<div>\n",
              "<style scoped>\n",
              "    .dataframe tbody tr th:only-of-type {\n",
              "        vertical-align: middle;\n",
              "    }\n",
              "\n",
              "    .dataframe tbody tr th {\n",
              "        vertical-align: top;\n",
              "    }\n",
              "\n",
              "    .dataframe thead th {\n",
              "        text-align: right;\n",
              "    }\n",
              "</style>\n",
              "<table border=\"1\" class=\"dataframe\">\n",
              "  <thead>\n",
              "    <tr style=\"text-align: right;\">\n",
              "      <th></th>\n",
              "      <th>Security</th>\n",
              "      <th>Activity</th>\n",
              "    </tr>\n",
              "  </thead>\n",
              "  <tbody>\n",
              "    <tr>\n",
              "      <th>0</th>\n",
              "      <td>SSO</td>\n",
              "      <td>40300</td>\n",
              "    </tr>\n",
              "    <tr>\n",
              "      <th>1</th>\n",
              "      <td>QLD</td>\n",
              "      <td>12766</td>\n",
              "    </tr>\n",
              "    <tr>\n",
              "      <th>2</th>\n",
              "      <td>DBO</td>\n",
              "      <td>7379</td>\n",
              "    </tr>\n",
              "    <tr>\n",
              "      <th>3</th>\n",
              "      <td>VXX</td>\n",
              "      <td>7304</td>\n",
              "    </tr>\n",
              "    <tr>\n",
              "      <th>4</th>\n",
              "      <td>SOXX</td>\n",
              "      <td>2235</td>\n",
              "    </tr>\n",
              "    <tr>\n",
              "      <th>...</th>\n",
              "      <td>...</td>\n",
              "      <td>...</td>\n",
              "    </tr>\n",
              "    <tr>\n",
              "      <th>156</th>\n",
              "      <td>LLY</td>\n",
              "      <td>1</td>\n",
              "    </tr>\n",
              "    <tr>\n",
              "      <th>157</th>\n",
              "      <td>VXRT</td>\n",
              "      <td>1</td>\n",
              "    </tr>\n",
              "    <tr>\n",
              "      <th>158</th>\n",
              "      <td>IWM</td>\n",
              "      <td>1</td>\n",
              "    </tr>\n",
              "    <tr>\n",
              "      <th>159</th>\n",
              "      <td>AEP</td>\n",
              "      <td>1</td>\n",
              "    </tr>\n",
              "    <tr>\n",
              "      <th>160</th>\n",
              "      <td>PIC</td>\n",
              "      <td>1</td>\n",
              "    </tr>\n",
              "  </tbody>\n",
              "</table>\n",
              "<p>161 rows × 2 columns</p>\n",
              "</div>"
            ],
            "text/plain": [
              "    Security  Activity\n",
              "0        SSO     40300\n",
              "1        QLD     12766\n",
              "2        DBO      7379\n",
              "3        VXX      7304\n",
              "4       SOXX      2235\n",
              "..       ...       ...\n",
              "156      LLY         1\n",
              "157     VXRT         1\n",
              "158      IWM         1\n",
              "159      AEP         1\n",
              "160      PIC         1\n",
              "\n",
              "[161 rows x 2 columns]"
            ]
          },
          "metadata": {
            "tags": []
          }
        }
      ]
    },
    {
      "cell_type": "code",
      "metadata": {
        "id": "eTCzjH-msJLR",
        "colab": {
          "base_uri": "https://localhost:8080/"
        },
        "outputId": "3b4e7873-a0b6-4a50-c65b-60603b019c5b"
      },
      "source": [
        "#Time at which most of the activity happened.\r\n",
        "print(\"Day of month with most activity is 24: \", days_count[24])\r\n",
        "print(\"Hour of day with most activity is 16: \", hours_count[16])\r\n",
        "print(\"Day of Week with most activity is 1: \", weekday_df['Activity'][3])"
      ],
      "execution_count": 50,
      "outputs": [
        {
          "output_type": "stream",
          "text": [
            "Day of month with most activity is 24:  12448\n",
            "Hour of day with most activity is 16:  15524\n",
            "Day of Week with most activity is 1:  13423\n"
          ],
          "name": "stdout"
        }
      ]
    },
    {
      "cell_type": "code",
      "metadata": {
        "id": "WUphzCSbsNln",
        "colab": {
          "base_uri": "https://localhost:8080/",
          "height": 328
        },
        "outputId": "cd0cb679-9b85-41c9-9fd3-cd92ba4a4845"
      },
      "source": [
        "#How many executions from a specific destination.\r\n",
        "dest_count = Counter(Trades_df['100'])\r\n",
        "dest_df = pd.DataFrame.from_dict(dest_count, orient='index').reset_index()\r\n",
        "#dest_df = dest_df.drop([5,9], axis=0).reset_index()\r\n",
        "#del dest_df['level_0']\r\n",
        "dest_df.columns =['Destination (tag=100)', 'Activity']\r\n",
        "dest_df = dest_df.sort_values(by='Activity', ascending=False).reset_index()\r\n",
        "del dest_df['index']\r\n",
        "display(dest_df)"
      ],
      "execution_count": 57,
      "outputs": [
        {
          "output_type": "display_data",
          "data": {
            "text/html": [
              "<div>\n",
              "<style scoped>\n",
              "    .dataframe tbody tr th:only-of-type {\n",
              "        vertical-align: middle;\n",
              "    }\n",
              "\n",
              "    .dataframe tbody tr th {\n",
              "        vertical-align: top;\n",
              "    }\n",
              "\n",
              "    .dataframe thead th {\n",
              "        text-align: right;\n",
              "    }\n",
              "</style>\n",
              "<table border=\"1\" class=\"dataframe\">\n",
              "  <thead>\n",
              "    <tr style=\"text-align: right;\">\n",
              "      <th></th>\n",
              "      <th>Destination (tag=100)</th>\n",
              "      <th>Activity</th>\n",
              "    </tr>\n",
              "  </thead>\n",
              "  <tbody>\n",
              "    <tr>\n",
              "      <th>0</th>\n",
              "      <td>WEX-BESTX</td>\n",
              "      <td>78604</td>\n",
              "    </tr>\n",
              "    <tr>\n",
              "      <th>1</th>\n",
              "      <td>WEX-BESTX-OPT</td>\n",
              "      <td>1659</td>\n",
              "    </tr>\n",
              "    <tr>\n",
              "      <th>2</th>\n",
              "      <td>WEX-SWEEP</td>\n",
              "      <td>1250</td>\n",
              "    </tr>\n",
              "    <tr>\n",
              "      <th>3</th>\n",
              "      <td>WEX-SWEEPX</td>\n",
              "      <td>404</td>\n",
              "    </tr>\n",
              "    <tr>\n",
              "      <th>4</th>\n",
              "      <td>WEX-PRIMARYX</td>\n",
              "      <td>87</td>\n",
              "    </tr>\n",
              "    <tr>\n",
              "      <th>5</th>\n",
              "      <td>ARCA</td>\n",
              "      <td>19</td>\n",
              "    </tr>\n",
              "    <tr>\n",
              "      <th>6</th>\n",
              "      <td>ARCA-OTC</td>\n",
              "      <td>7</td>\n",
              "    </tr>\n",
              "    <tr>\n",
              "      <th>7</th>\n",
              "      <td>WEX-VWAP</td>\n",
              "      <td>2</td>\n",
              "    </tr>\n",
              "    <tr>\n",
              "      <th>8</th>\n",
              "      <td>PUMA-DESK</td>\n",
              "      <td>1</td>\n",
              "    </tr>\n",
              "  </tbody>\n",
              "</table>\n",
              "</div>"
            ],
            "text/plain": [
              "  Destination (tag=100)  Activity\n",
              "0             WEX-BESTX     78604\n",
              "1         WEX-BESTX-OPT      1659\n",
              "2             WEX-SWEEP      1250\n",
              "3            WEX-SWEEPX       404\n",
              "4          WEX-PRIMARYX        87\n",
              "5                  ARCA        19\n",
              "6              ARCA-OTC         7\n",
              "7              WEX-VWAP         2\n",
              "8             PUMA-DESK         1"
            ]
          },
          "metadata": {
            "tags": []
          }
        }
      ]
    },
    {
      "cell_type": "code",
      "metadata": {
        "id": "xj07u4G7zmAz"
      },
      "source": [
        "#Latency/time taken by any destination after accepting the order and completely filling the order.\r\n",
        "#Finding Difference between Transect Time (tag 60) and Sending Time (tag 52)\r\n",
        "tags = ['60']\r\n",
        "transectTime_df = ToDataFrame(dataFiles, tags)"
      ],
      "execution_count": 58,
      "outputs": []
    },
    {
      "cell_type": "code",
      "metadata": {
        "id": "00oc8Fn1g84I"
      },
      "source": [
        "transectTime = transectTime_df['60']\r\n",
        "sendingTime = dataFrame['52']\r\n",
        "\r\n",
        "tTime = []\r\n",
        "sTime = []\r\n",
        "for i in transectTime:\r\n",
        "    tTime.append(maya.parse(i).datetime())\r\n",
        "    sTime.append(maya.parse(i).datetime())\r\n",
        "\r\n",
        "#print(tTime[0])"
      ],
      "execution_count": 59,
      "outputs": []
    },
    {
      "cell_type": "code",
      "metadata": {
        "colab": {
          "base_uri": "https://localhost:8080/"
        },
        "id": "EKnIuCIexHCb",
        "outputId": "5874a2e8-72ba-4942-8cf5-d1782b8fd2ea"
      },
      "source": [
        "len(tTime)"
      ],
      "execution_count": 75,
      "outputs": [
        {
          "output_type": "execute_result",
          "data": {
            "text/plain": [
              "373463"
            ]
          },
          "metadata": {
            "tags": []
          },
          "execution_count": 75
        }
      ]
    },
    {
      "cell_type": "code",
      "metadata": {
        "colab": {
          "base_uri": "https://localhost:8080/"
        },
        "id": "zQ1havnrkVi8",
        "outputId": "a8c7f129-83cc-45da-b118-c35389d742ec"
      },
      "source": [
        "from datetime import time\r\n",
        "from datetime import timedelta\r\n",
        "\r\n",
        "timeDifference = []\r\n",
        "for i in range(0,len(tTime)):\r\n",
        "    timeDifference.append(tTime[i]-sTime[i])\r\n",
        "\r\n",
        "#print(timeDifference[0].total_seconds())\r\n",
        "\r\n",
        "any_delay = False\r\n",
        "for i in timeDifference:\r\n",
        "    if i.total_seconds() != 0:\r\n",
        "        any_delay = True\r\n",
        "        print(\"Network Delay Found: \", timeDifference)\r\n",
        "\r\n",
        "if not any_delay:\r\n",
        "    print(\"No Network Delay Found\")\r\n",
        "        "
      ],
      "execution_count": 87,
      "outputs": [
        {
          "output_type": "stream",
          "text": [
            "No Network Delay Found\n"
          ],
          "name": "stdout"
        }
      ]
    },
    {
      "cell_type": "code",
      "metadata": {
        "id": "-gSjcJyCovd3"
      },
      "source": [
        "#del Trades_df['index']\r\n",
        "#del Trades_df['39']\r\n",
        "#del Trades_df['OrdStatus']\r\n",
        "\r\n",
        "dataToWrite = dataFrame\r\n",
        "tradeDataToWrite = Trades_df\r\n",
        "dataToWrite.columns = ['SendingTime', 'Security', 'Account', 'MessageType', 'OrdStatus', 'ExDestination']\r\n",
        "tradeDataToWrite.columns = ['SendingTime', 'Security', 'Account', 'MessageType', 'ExDestination']\r\n",
        "#print(dataToWrite)\r\n",
        "\r\n",
        "dataToWrite.to_csv(os.path.join(dataFolder, 'CleanData.csv'), index=False)\r\n",
        "tradeDataToWrite.to_csv(os.path.join(dataFolder, 'TradeData.csv'), index=False)"
      ],
      "execution_count": 97,
      "outputs": []
    }
  ]
}