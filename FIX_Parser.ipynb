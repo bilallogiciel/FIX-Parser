{
  "nbformat": 4,
  "nbformat_minor": 0,
  "metadata": {
    "colab": {
      "name": "FIX Parser.ipynb",
      "provenance": [],
      "collapsed_sections": [],
      "mount_file_id": "1_VPMY2qE97oawKGfsm9GodXX71lNnXUg",
      "authorship_tag": "ABX9TyM7oxmOrdXGm2fi5QRVhPsE",
      "include_colab_link": true
    },
    "kernelspec": {
      "name": "python3",
      "display_name": "Python 3"
    }
  },
  "cells": [
    {
      "cell_type": "markdown",
      "metadata": {
        "id": "view-in-github",
        "colab_type": "text"
      },
      "source": [
        "<a href=\"https://colab.research.google.com/github/MuhammadBilall/FIX-Parser/blob/main/FIX_Parser.ipynb\" target=\"_parent\"><img src=\"https://colab.research.google.com/assets/colab-badge.svg\" alt=\"Open In Colab\"/></a>"
      ]
    },
    {
      "cell_type": "code",
      "metadata": {
        "colab": {
          "base_uri": "https://localhost:8080/"
        },
        "id": "M2CD-wn_iRQy",
        "outputId": "c55589e2-b53b-40de-8278-df954bc9e434"
      },
      "source": [
        "from google.colab import drive\r\n",
        "drive.mount('/content/drive')\r\n",
        "dataFolder = '/content/drive/MyDrive/FIX-Messages/'"
      ],
      "execution_count": 1,
      "outputs": [
        {
          "output_type": "stream",
          "text": [
            "Drive already mounted at /content/drive; to attempt to forcibly remount, call drive.mount(\"/content/drive\", force_remount=True).\n"
          ],
          "name": "stdout"
        }
      ]
    },
    {
      "cell_type": "code",
      "metadata": {
        "colab": {
          "base_uri": "https://localhost:8080/"
        },
        "id": "uyfTeGqenrSL",
        "outputId": "6953692f-95e2-4f5e-c604-4f1bfc61bf21"
      },
      "source": [
        "import pandas as pd\r\n",
        "import os\r\n",
        "import glob\r\n",
        "dataFiles = []\r\n",
        "txt_files = glob.glob(dataFolder + \"*.txt\")\r\n",
        "#print(txt_files)\r\n",
        "for filename in txt_files:  \r\n",
        "    print(\"Reading File: \", filename)\r\n",
        "    data = pd.read_fwf(filename, header=None)\r\n",
        "    dataFiles.append(data)\r\n",
        "\r\n",
        "#print(dataFiles[0])"
      ],
      "execution_count": 2,
      "outputs": [
        {
          "output_type": "stream",
          "text": [
            "['/content/drive/MyDrive/FIX-Messages/2020-08-12 Messages.txt', '/content/drive/MyDrive/FIX-Messages/2020-08-11 Messages.txt']\n",
            "Reading File:  /content/drive/MyDrive/FIX-Messages/2020-08-12 Messages.txt\n",
            "Reading File:  /content/drive/MyDrive/FIX-Messages/2020-08-11 Messages.txt\n"
          ],
          "name": "stdout"
        }
      ]
    },
    {
      "cell_type": "code",
      "metadata": {
        "id": "uqOhbixesXR_"
      },
      "source": [
        "def GetTagValue(msg, tag):\r\n",
        "    splits = msg.split(\"\\001\")\r\n",
        "    for s in splits:\r\n",
        "        temp = s.split(\"=\")\r\n",
        "        if temp[0] == tag:\r\n",
        "            return temp[1]\r\n",
        "    return -1    "
      ],
      "execution_count": 3,
      "outputs": []
    },
    {
      "cell_type": "code",
      "metadata": {
        "id": "XFmnQ0cWHmem"
      },
      "source": [
        "def ToDataFrame(dataFiles, tags):\r\n",
        "    dataChunks = []\r\n",
        "\r\n",
        "    for data in dataFiles:\r\n",
        "        rows = []\r\n",
        "\r\n",
        "        for i in range(len(data)):\r\n",
        "            row = []\r\n",
        "\r\n",
        "            for tag in tags:\r\n",
        "                msg = data.at[i,0]\r\n",
        "                value = GetTagValue(msg, tag)\r\n",
        "                #print(\"msg num: \", i, \"tag: \", tag, \"value: \", value)\r\n",
        "                row.append(value)\r\n",
        "\r\n",
        "            rows.append(row)\r\n",
        "\r\n",
        "        dataChunks.append(pd.DataFrame(rows, columns = tags))\r\n",
        "        \r\n",
        "    dataFrame = pd.concat(dataChunks, ignore_index=True)\r\n",
        "    return dataFrame"
      ],
      "execution_count": 6,
      "outputs": []
    },
    {
      "cell_type": "code",
      "metadata": {
        "colab": {
          "base_uri": "https://localhost:8080/"
        },
        "id": "iICDt_l6skal",
        "outputId": "ea3a14a9-ec58-434f-e2bf-001acb4416eb"
      },
      "source": [
        "tags = ['9', '35', '52', '34', '49', '56', '11', '55', '167', '54', '60', '37', '38', '40', '17', '41', '44']\r\n",
        "dataFrame = ToDataFrame(dataFiles, tags)\r\n",
        "print(dataFrame)"
      ],
      "execution_count": 8,
      "outputs": [
        {
          "output_type": "stream",
          "text": [
            "         9 35  ...              41         44\n",
            "0      196  D  ...              -1  21.540000\n",
            "1      253  8  ...              -1  21.540000\n",
            "2      185  F  ...   Q8P-AXK-Q8P-1         -1\n",
            "3      233  8  ...   Q8P-AXK-Q8P-1         -1\n",
            "4      197  D  ...              -1  21.530000\n",
            "...    ... ..  ...             ...        ...\n",
            "64233  241  8  ...  QCF-3MG7-QCF-1         -1\n",
            "64234  201  D  ...              -1  15.200000\n",
            "64235  259  8  ...              -1  15.200000\n",
            "64236  191  F  ...  TU7-4QZQ-TU7-1         -1\n",
            "64237  240  8  ...  TU7-4QZQ-TU7-1         -1\n",
            "\n",
            "[64238 rows x 17 columns]\n"
          ],
          "name": "stdout"
        }
      ]
    },
    {
      "cell_type": "code",
      "metadata": {
        "id": "ABeDjAOk1xeK"
      },
      "source": [
        "dataFrame.to_csv(os.path.join(dataFolder, 'CleanData.csv'), index=False)"
      ],
      "execution_count": 9,
      "outputs": []
    },
    {
      "cell_type": "code",
      "metadata": {
        "id": "biFWGD2Vr7dJ"
      },
      "source": [
        "#!pip install maya\r\n",
        "from datetime import datetime\r\n",
        "import maya\r\n",
        "times = dataFrame['52']\r\n",
        "dt = []\r\n",
        "hours = []\r\n",
        "weekdays = []\r\n",
        "for i in range(0,len(times)):\r\n",
        "    dt.append(maya.parse(times[i]).datetime())\r\n",
        "    hours.append(dt[i].hour)\r\n",
        "    weekdays.append(dt[i].weekday())"
      ],
      "execution_count": 112,
      "outputs": []
    },
    {
      "cell_type": "code",
      "metadata": {
        "id": "kMtnev0F9IKl"
      },
      "source": [
        "#hours[0].strftime(\"%I:%M %p\")"
      ],
      "execution_count": 118,
      "outputs": []
    },
    {
      "cell_type": "code",
      "metadata": {
        "colab": {
          "base_uri": "https://localhost:8080/"
        },
        "id": "RGphM0QmuOWQ",
        "outputId": "0a4de5c0-e1b2-4e0f-bb4b-4c169e2a782e"
      },
      "source": [
        "from collections import Counter\r\n",
        "hours_count = Counter(hours)\r\n",
        "weekday_count = Counter(weekdays)"
      ],
      "execution_count": 115,
      "outputs": [
        {
          "output_type": "execute_result",
          "data": {
            "text/plain": [
              "Counter({1: 38560, 2: 25678})"
            ]
          },
          "metadata": {
            "tags": []
          },
          "execution_count": 115
        }
      ]
    },
    {
      "cell_type": "code",
      "metadata": {
        "colab": {
          "base_uri": "https://localhost:8080/",
          "height": 513
        },
        "id": "3UD7TTT4tISJ",
        "outputId": "4c3ca7b5-5b7f-47e7-e4c0-63510e6cc0a1"
      },
      "source": [
        "import seaborn as sns\r\n",
        "import matplotlib.pyplot as plt\r\n",
        "sns.lineplot(data=hours_count)\r\n",
        "plt.show()\r\n",
        "sns.lineplot(data=weekday_count)\r\n",
        "plt.show()"
      ],
      "execution_count": 114,
      "outputs": [
        {
          "output_type": "display_data",
          "data": {
            "image/png": "[encoded data removed]",
            "text/plain": [
              "<Figure size 432x288 with 1 Axes>"
            ]
          },
          "metadata": {
            "tags": [],
            "needs_background": "light"
          }
        },
        {
          "output_type": "display_data",
          "data": {
            "image/png": "[encoded data removed]",
            "text/plain": [
              "<Figure size 432x288 with 1 Axes>"
            ]
          },
          "metadata": {
            "tags": [],
            "needs_background": "light"
          }
        }
      ]
    }
  ]
}