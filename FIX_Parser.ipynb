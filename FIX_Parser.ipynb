{
  "nbformat": 4,
  "nbformat_minor": 0,
  "metadata": {
    "colab": {
      "name": "FIX Parser.ipynb",
      "provenance": [],
      "collapsed_sections": [],
      "mount_file_id": "1_VPMY2qE97oawKGfsm9GodXX71lNnXUg",
      "authorship_tag": "ABX9TyNBKkwjhAyqP6qmeUIiyXpG",
      "include_colab_link": true
    },
    "kernelspec": {
      "name": "python3",
      "display_name": "Python 3"
    }
  },
  "cells": [
    {
      "cell_type": "markdown",
      "metadata": {
        "id": "view-in-github",
        "colab_type": "text"
      },
      "source": [
        "<a href=\"https://colab.research.google.com/github/MuhammadBilall/FIX-Parser/blob/main/FIX_Parser.ipynb\" target=\"_parent\"><img src=\"https://colab.research.google.com/assets/colab-badge.svg\" alt=\"Open In Colab\"/></a>"
      ]
    },
    {
      "cell_type": "code",
      "metadata": {
        "colab": {
          "base_uri": "https://localhost:8080/"
        },
        "id": "M2CD-wn_iRQy",
        "outputId": "c55589e2-b53b-40de-8278-df954bc9e434"
      },
      "source": [
        "from google.colab import drive\r\n",
        "drive.mount('/content/drive')\r\n",
        "dataFolder = '/content/drive/MyDrive/FIX-Messages/'"
      ],
      "execution_count": 1,
      "outputs": [
        {
          "output_type": "stream",
          "text": [
            "Drive already mounted at /content/drive; to attempt to forcibly remount, call drive.mount(\"/content/drive\", force_remount=True).\n"
          ],
          "name": "stdout"
        }
      ]
    },
    {
      "cell_type": "code",
      "metadata": {
        "colab": {
          "base_uri": "https://localhost:8080/"
        },
        "id": "uyfTeGqenrSL",
        "outputId": "6953692f-95e2-4f5e-c604-4f1bfc61bf21"
      },
      "source": [
        "import pandas as pd\r\n",
        "import os\r\n",
        "import glob\r\n",
        "dataFiles = []\r\n",
        "txt_files = glob.glob(dataFolder + \"*.txt\")\r\n",
        "print(txt_files)\r\n",
        "for filename in txt_files:  \r\n",
        "    print(\"Reading File: \", filename)\r\n",
        "    data = pd.read_fwf(filename, header=None)\r\n",
        "    dataFiles.append(data)\r\n",
        "\r\n",
        "#print(dataFiles[0])"
      ],
      "execution_count": 2,
      "outputs": [
        {
          "output_type": "stream",
          "text": [
            "['/content/drive/MyDrive/FIX-Messages/2020-08-12 Messages.txt', '/content/drive/MyDrive/FIX-Messages/2020-08-11 Messages.txt']\n",
            "Reading File:  /content/drive/MyDrive/FIX-Messages/2020-08-12 Messages.txt\n",
            "Reading File:  /content/drive/MyDrive/FIX-Messages/2020-08-11 Messages.txt\n"
          ],
          "name": "stdout"
        }
      ]
    },
    {
      "cell_type": "code",
      "metadata": {
        "id": "uqOhbixesXR_"
      },
      "source": [
        "def GetTagValue(msg, tag):\r\n",
        "    splits = msg.split(\"\\001\")\r\n",
        "    for s in splits:\r\n",
        "        temp = s.split(\"=\")\r\n",
        "        if temp[0] == tag:\r\n",
        "            return temp[1]\r\n",
        "    return -1    "
      ],
      "execution_count": 3,
      "outputs": []
    },
    {
      "cell_type": "code",
      "metadata": {
        "id": "XFmnQ0cWHmem"
      },
      "source": [
        "def ToDataFrame(dataFiles, tags):\r\n",
        "    dataChunks = []\r\n",
        "\r\n",
        "    for data in dataFiles:\r\n",
        "        rows = []\r\n",
        "\r\n",
        "        for i in range(len(data)):\r\n",
        "            row = []\r\n",
        "\r\n",
        "            for tag in tags:\r\n",
        "                msg = data.at[i,0]\r\n",
        "                value = GetTagValue(msg, tag)\r\n",
        "                #print(\"msg num: \", i, \"tag: \", tag, \"value: \", value)\r\n",
        "                row.append(value)\r\n",
        "\r\n",
        "            rows.append(row)\r\n",
        "\r\n",
        "        dataChunks.append(pd.DataFrame(rows, columns = tags))\r\n",
        "        \r\n",
        "    dataFrame = pd.concat(dataChunks, ignore_index=True)\r\n",
        "    return dataFrame"
      ],
      "execution_count": 6,
      "outputs": []
    },
    {
      "cell_type": "code",
      "metadata": {
        "colab": {
          "base_uri": "https://localhost:8080/"
        },
        "id": "iICDt_l6skal",
        "outputId": "5769b048-781d-4102-b909-3ec14612d7a9"
      },
      "source": [
        "tags = ['49', '56', '52']\r\n",
        "dataFrame = ToDataFrame(dataFiles, tags)\r\n",
        "print(dataFrame)"
      ],
      "execution_count": 7,
      "outputs": [
        {
          "output_type": "stream",
          "text": [
            "            49            56                     52\n",
            "0      WEXDROP  VELOCITYDROP  20200812-13:33:58.389\n",
            "1      WEXDROP  VELOCITYDROP  20200812-13:33:58.391\n",
            "2      WEXDROP  VELOCITYDROP  20200812-13:33:58.396\n",
            "3      WEXDROP  VELOCITYDROP  20200812-13:33:58.398\n",
            "4      WEXDROP  VELOCITYDROP  20200812-13:33:58.405\n",
            "...        ...           ...                    ...\n",
            "64233  WEXDROP  VELOCITYDROP  20200811-19:59:30.068\n",
            "64234  WEXDROP  VELOCITYDROP  20200811-19:59:27.006\n",
            "64235  WEXDROP  VELOCITYDROP  20200811-19:59:27.007\n",
            "64236  WEXDROP  VELOCITYDROP  20200811-19:59:30.051\n",
            "64237  WEXDROP  VELOCITYDROP  20200811-19:59:30.052\n",
            "\n",
            "[64238 rows x 3 columns]\n"
          ],
          "name": "stdout"
        }
      ]
    },
    {
      "cell_type": "code",
      "metadata": {
        "id": "ABeDjAOk1xeK"
      },
      "source": [
        "dataFrame.to_csv(os.path.join(dataFolder, 'CleanData.csv'), index=False)"
      ],
      "execution_count": 5,
      "outputs": []
    }
  ]
}