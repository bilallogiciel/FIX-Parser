{
  "nbformat": 4,
  "nbformat_minor": 0,
  "metadata": {
    "colab": {
      "name": "FIX Parser.ipynb",
      "provenance": [],
      "collapsed_sections": [],
      "mount_file_id": "1_VPMY2qE97oawKGfsm9GodXX71lNnXUg",
      "authorship_tag": "ABX9TyNYZKZfEHDCAAb9uxEaWGmq",
      "include_colab_link": true
    },
    "kernelspec": {
      "name": "python3",
      "display_name": "Python 3"
    }
  },
  "cells": [
    {
      "cell_type": "markdown",
      "metadata": {
        "id": "view-in-github",
        "colab_type": "text"
      },
      "source": [
        "<a href=\"https://colab.research.google.com/github/MuhammadBilall/FIX-Parser/blob/main/FIX_Parser.ipynb\" target=\"_parent\"><img src=\"https://colab.research.google.com/assets/colab-badge.svg\" alt=\"Open In Colab\"/></a>"
      ]
    },
    {
      "cell_type": "code",
      "metadata": {
        "colab": {
          "base_uri": "https://localhost:8080/"
        },
        "id": "M2CD-wn_iRQy",
        "outputId": "8e04123c-8429-44cc-f5da-391685e58ce9"
      },
      "source": [
        "from google.colab import drive\r\n",
        "drive.mount('/content/drive')   "
      ],
      "execution_count": 78,
      "outputs": [
        {
          "output_type": "stream",
          "text": [
            "Drive already mounted at /content/drive; to attempt to forcibly remount, call drive.mount(\"/content/drive\", force_remount=True).\n"
          ],
          "name": "stdout"
        }
      ]
    },
    {
      "cell_type": "code",
      "metadata": {
        "id": "Q4yfNwwd8YZe"
      },
      "source": [
        "dataFolder = '/content/drive/MyDrive/FIX-Messages(1 month)/' "
      ],
      "execution_count": 79,
      "outputs": []
    },
    {
      "cell_type": "code",
      "metadata": {
        "colab": {
          "base_uri": "https://localhost:8080/"
        },
        "id": "uyfTeGqenrSL",
        "outputId": "931f38d7-6b20-489b-f582-796bdc8671b2"
      },
      "source": [
        "import pandas as pd\r\n",
        "import os\r\n",
        "import glob\r\n",
        "dataFiles = []\r\n",
        "txt_files = glob.glob(dataFolder + \"*.txt\")\r\n",
        "#print(txt_files)\r\n",
        "for filename in txt_files:  \r\n",
        "    print(\"Reading File: \", filename)\r\n",
        "    data = pd.read_fwf(filename, header=None)\r\n",
        "    dataFiles.append(data)\r\n",
        "\r\n",
        "#print(dataFiles[0])"
      ],
      "execution_count": 80,
      "outputs": [
        {
          "output_type": "stream",
          "text": [
            "Reading File:  /content/drive/MyDrive/FIX-Messages(1 month)/2020-11-02 Messages.txt\n",
            "Reading File:  /content/drive/MyDrive/FIX-Messages(1 month)/2020-11-06 Messages.txt\n",
            "Reading File:  /content/drive/MyDrive/FIX-Messages(1 month)/2020-11-04 Messages.txt\n",
            "Reading File:  /content/drive/MyDrive/FIX-Messages(1 month)/2020-11-10 Messages.txt\n",
            "Reading File:  /content/drive/MyDrive/FIX-Messages(1 month)/2020-11-05 Messages.txt\n",
            "Reading File:  /content/drive/MyDrive/FIX-Messages(1 month)/2020-11-09 Messages.txt\n",
            "Reading File:  /content/drive/MyDrive/FIX-Messages(1 month)/2020-11-03 Messages.txt\n",
            "Reading File:  /content/drive/MyDrive/FIX-Messages(1 month)/2020-11-19 Messages.txt\n",
            "Reading File:  /content/drive/MyDrive/FIX-Messages(1 month)/2020-12-01 Messages.txt\n",
            "Reading File:  /content/drive/MyDrive/FIX-Messages(1 month)/2020-11-18 Messages.txt\n",
            "Reading File:  /content/drive/MyDrive/FIX-Messages(1 month)/2020-11-24 Messages.txt\n",
            "Reading File:  /content/drive/MyDrive/FIX-Messages(1 month)/2020-11-27 Messages.txt\n",
            "Reading File:  /content/drive/MyDrive/FIX-Messages(1 month)/2020-11-20 Messages.txt\n",
            "Reading File:  /content/drive/MyDrive/FIX-Messages(1 month)/2020-11-11 Messages.txt\n",
            "Reading File:  /content/drive/MyDrive/FIX-Messages(1 month)/2020-11-12 Messages.txt\n",
            "Reading File:  /content/drive/MyDrive/FIX-Messages(1 month)/2020-11-13 Messages.txt\n",
            "Reading File:  /content/drive/MyDrive/FIX-Messages(1 month)/2020-11-30 Messages.txt\n",
            "Reading File:  /content/drive/MyDrive/FIX-Messages(1 month)/2020-11-25 Messages.txt\n",
            "Reading File:  /content/drive/MyDrive/FIX-Messages(1 month)/2020-11-23 Messages.txt\n",
            "Reading File:  /content/drive/MyDrive/FIX-Messages(1 month)/2020-11-16 Messages.txt\n",
            "Reading File:  /content/drive/MyDrive/FIX-Messages(1 month)/2020-11-17 Messages.txt\n"
          ],
          "name": "stdout"
        }
      ]
    },
    {
      "cell_type": "code",
      "metadata": {
        "id": "uqOhbixesXR_"
      },
      "source": [
        "def GetTagValue(msg, tag):  \r\n",
        "    splits = msg.split(\"\\001\")\r\n",
        "    for s in splits:\r\n",
        "        temp = s.split(\"=\")\r\n",
        "        #print(len(temp))\r\n",
        "        if temp[0] == tag:\r\n",
        "            if (len(temp)>1):    #For handling missing values in tags\r\n",
        "                return temp[1]\r\n",
        "    return -1       \r\n",
        "        "
      ],
      "execution_count": 81,
      "outputs": []
    },
    {
      "cell_type": "code",
      "metadata": {
        "id": "XFmnQ0cWHmem"
      },
      "source": [
        "def ToDataFrame(dataFiles, tags):\r\n",
        "    dataChunks = []\r\n",
        "\r\n",
        "    for data in dataFiles:\r\n",
        "        rows = []\r\n",
        "\r\n",
        "        for i in range(len(data)):\r\n",
        "            row = []\r\n",
        "\r\n",
        "            for tag in tags:\r\n",
        "                msg = data.at[i,0]\r\n",
        "                \r\n",
        "                value = GetTagValue(msg, tag)\r\n",
        "                #print(\"msg num: \", i, \"tag: \", tag, \"value: \", value)\r\n",
        "                row.append(value)\r\n",
        "\r\n",
        "            rows.append(row)\r\n",
        "\r\n",
        "        dataChunks.append(pd.DataFrame(rows, columns = tags))\r\n",
        "        \r\n",
        "    dataFrame = pd.concat(dataChunks, ignore_index=True)\r\n",
        "    return dataFrame"
      ],
      "execution_count": 82,
      "outputs": []
    },
    {
      "cell_type": "code",
      "metadata": {
        "colab": {
          "base_uri": "https://localhost:8080/"
        },
        "id": "iICDt_l6skal",
        "outputId": "333e01fe-ea83-4120-c128-71a0739fdcf2"
      },
      "source": [
        "tags = ['52','55', '1', '109', '35', '39', '100']\r\n",
        "dataFrame = ToDataFrame(dataFiles, tags)\r\n",
        "print(dataFrame)"
      ],
      "execution_count": 83,
      "outputs": [
        {
          "output_type": "stream",
          "text": [
            "                           52    55  1       109 35  39        100\n",
            "0       20201102-13:33:09.955   SSO -1    ETFARB  D  -1  WEX-BESTX\n",
            "1       20201102-13:33:10.049   SSO -1    ETFARB  8   0  WEX-BESTX\n",
            "2       20201102-13:33:11.591   SSO -1    ETFARB  8   2  WEX-BESTX\n",
            "3       20201102-13:33:19.812   QLD -1    ETFARB  D  -1  WEX-BESTX\n",
            "4       20201102-13:33:19.988   QLD -1    ETFARB  8   0  WEX-BESTX\n",
            "...                       ...   ... ..       ... ..  ..        ...\n",
            "373458  20201117-21:14:34.857  SPXW -1  OPSPRTRD  D  -1  WEX-SWEEP\n",
            "373459  20201117-21:14:34.867  SPXW -1  OPSPRTRD  8   0  WEX-SWEEP\n",
            "373460  20201117-21:14:34.868  SPXW -1  OPSPRTRD  8   2  WEX-SWEEP\n",
            "373461  20201117-21:15:01.299  SPXW -1  OPSPRTRD  D  -1  WEX-SWEEP\n",
            "373462  20201117-21:15:01.325  SPXW -1  OPSPRTRD  8   8  WEX-SWEEP\n",
            "\n",
            "[373463 rows x 7 columns]\n"
          ],
          "name": "stdout"
        }
      ]
    },
    {
      "cell_type": "code",
      "metadata": {
        "id": "ABeDjAOk1xeK"
      },
      "source": [
        "dataFrame.to_csv(os.path.join(dataFolder, 'CleanData.csv'), index=False)"
      ],
      "execution_count": 84,
      "outputs": []
    },
    {
      "cell_type": "code",
      "metadata": {
        "id": "em1pKrFkdph5",
        "colab": {
          "base_uri": "https://localhost:8080/"
        },
        "outputId": "26739d8d-7538-4d18-9c07-8cc2b07b7f84"
      },
      "source": [
        "!pip install maya"
      ],
      "execution_count": 85,
      "outputs": [
        {
          "output_type": "stream",
          "text": [
            "Requirement already satisfied: maya in /usr/local/lib/python3.6/dist-packages (0.6.1)\n",
            "Requirement already satisfied: pendulum>=2.0.2 in /usr/local/lib/python3.6/dist-packages (from maya) (2.1.2)\n",
            "Requirement already satisfied: humanize in /usr/local/lib/python3.6/dist-packages (from maya) (0.5.1)\n",
            "Requirement already satisfied: snaptime in /usr/local/lib/python3.6/dist-packages (from maya) (0.2.4)\n",
            "Requirement already satisfied: dateparser>=0.7.0 in /usr/local/lib/python3.6/dist-packages (from maya) (1.0.0)\n",
            "Requirement already satisfied: pytz in /usr/local/lib/python3.6/dist-packages (from maya) (2018.9)\n",
            "Requirement already satisfied: tzlocal in /usr/local/lib/python3.6/dist-packages (from maya) (1.5.1)\n",
            "Requirement already satisfied: python-dateutil<3.0,>=2.6 in /usr/local/lib/python3.6/dist-packages (from pendulum>=2.0.2->maya) (2.8.1)\n",
            "Requirement already satisfied: pytzdata>=2020.1 in /usr/local/lib/python3.6/dist-packages (from pendulum>=2.0.2->maya) (2020.1)\n",
            "Requirement already satisfied: regex!=2019.02.19 in /usr/local/lib/python3.6/dist-packages (from dateparser>=0.7.0->maya) (2019.12.20)\n",
            "Requirement already satisfied: six>=1.5 in /usr/local/lib/python3.6/dist-packages (from python-dateutil<3.0,>=2.6->pendulum>=2.0.2->maya) (1.15.0)\n"
          ],
          "name": "stdout"
        }
      ]
    },
    {
      "cell_type": "code",
      "metadata": {
        "id": "biFWGD2Vr7dJ"
      },
      "source": [
        "from datetime import datetime\r\n",
        "import maya\r\n",
        "times = dataFrame['52']\r\n",
        "dt = []\r\n",
        "hours = []\r\n",
        "time = []\r\n",
        "weekdays = []\r\n",
        "day = []\r\n",
        "\r\n",
        "for i in range(0,len(times)):\r\n",
        "    dt.append(maya.parse(times[i]).datetime())\r\n",
        "    hours.append(dt[i].hour)\r\n",
        "    weekdays.append(dt[i].strftime('%A'))\r\n",
        "    time.append(dt[i].time())\r\n",
        "    day.append(dt[i].day)\r\n"
      ],
      "execution_count": 86,
      "outputs": []
    },
    {
      "cell_type": "code",
      "metadata": {
        "id": "RGphM0QmuOWQ"
      },
      "source": [
        "from collections import Counter\r\n",
        "#time_count = Counter(time)\r\n",
        "hours_count = Counter(hours)\r\n",
        "weekday_count = Counter(weekdays)\r\n",
        "days_count = Counter(day)\r\n",
        "#print(weekday_count)\r\n",
        "#print(hours_count)\r\n",
        "#print(days_count)"
      ],
      "execution_count": 87,
      "outputs": []
    },
    {
      "cell_type": "markdown",
      "metadata": {
        "id": "Gaffkf566wMF"
      },
      "source": [
        ""
      ]
    },
    {
      "cell_type": "code",
      "metadata": {
        "id": "s15z3T0gr0h-",
        "colab": {
          "base_uri": "https://localhost:8080/",
          "height": 1000
        },
        "outputId": "a26f8b38-12e7-4e57-a441-7338544696b0"
      },
      "source": [
        "#How many accounts have traded a particular security\r\n",
        "#Most active traded accounts.\r\n",
        "#Least active traded accounts.\r\n",
        "\r\n",
        "#Finding the trades\r\n",
        "#Tag 35=8 OR Tag 39=1 OR Tag 39=2\r\n",
        "options = ['1', '2'] \r\n",
        "Trades_df = dataFrame[(dataFrame['35'] == '8') | (dataFrame['39'].isin(options))]\r\n",
        "#print(Trades_df)\r\n",
        "\r\n",
        "#Droping messages with missing account ID\r\n",
        "#Trades_df = Trades_df.drop(Trades_df[Trades_df['109'] == -1].index)\r\n",
        "#Trades_df = Trades_df.drop(Trades_df[Trades_df['109'] == ''].index)\r\n",
        "\r\n",
        "#Renaming Missing account numbers to DEFAULT\r\n",
        "Trades_df['109'] = Trades_df['109'].replace(['',-1],'DEFAULT')\r\n",
        "\r\n",
        "#Taking out ONLY Account ID and Security out of dataframe\r\n",
        "accounts_symbols = Trades_df.filter(['109','55'], axis=1)\r\n",
        "#Finding the number of unique accounts\r\n",
        "accounts = accounts_symbols['109'].unique()\r\n",
        "\r\n",
        "#Grouping by Account ID and summing each security with it\r\n",
        "accounts_symbols_count = []\r\n",
        "for account in accounts:\r\n",
        "    accounts_symbols_count.append(accounts_symbols[accounts_symbols['109'] == account].groupby(['55']).count())\r\n",
        "\r\n",
        "#Finding Most traded Account, Min traded Account\r\n",
        "most_trades = 0\r\n",
        "most_trade_acc = 0\r\n",
        "min_trade = accounts_symbols_count[0]['109'].sum()\r\n",
        "min_trade_acc = 0\r\n",
        "for i in range (0,len(accounts)):\r\n",
        "    total = accounts_symbols_count[i]['109'].sum()\r\n",
        "    if  (total > most_trades):\r\n",
        "        most_trades = total\r\n",
        "        most_trade_acc = accounts[i]\r\n",
        "\r\n",
        "    if  (total < min_trade):\r\n",
        "        min_trade = total\r\n",
        "        min_trade_acc = accounts[i]\r\n",
        "\r\n",
        "print(\"Account with most trades: \", most_trade_acc)\r\n",
        "print(\"Number of trades: \", most_trades)\r\n",
        "print(\"\\nAccount with least trades: \", min_trade_acc)\r\n",
        "print(\"Number of trades: \", min_trade)\r\n",
        "\r\n",
        "#Displaying The results\r\n",
        "for i in range(0,len(accounts)):\r\n",
        "    accounts_symbols_count[i] = accounts_symbols_count[i].sort_values(by='109', ascending=False)\r\n",
        "    total = accounts_symbols_count[i]['109'].sum()\r\n",
        "    accounts_symbols_count[i] = accounts_symbols_count[i].transpose()\r\n",
        "    accounts_symbols_count[i].reset_index(drop=True, inplace=True)\r\n",
        "    print(\"\\nAccount ID:\", accounts[i], \"Total Trades: \", total) \r\n",
        "    display(accounts_symbols_count[i])\r\n",
        "    "
      ],
      "execution_count": 88,
      "outputs": [
        {
          "output_type": "stream",
          "text": [
            "/usr/local/lib/python3.6/dist-packages/ipykernel_launcher.py:16: SettingWithCopyWarning: \n",
            "A value is trying to be set on a copy of a slice from a DataFrame.\n",
            "Try using .loc[row_indexer,col_indexer] = value instead\n",
            "\n",
            "See the caveats in the documentation: https://pandas.pydata.org/pandas-docs/stable/user_guide/indexing.html#returning-a-view-versus-a-copy\n",
            "  app.launch_new_instance()\n"
          ],
          "name": "stderr"
        },
        {
          "output_type": "stream",
          "text": [
            "Account with most trades:  ETFARB\n",
            "Number of trades:  156483\n",
            "\n",
            "Account with least trades:  OPSP\n",
            "Number of trades:  1\n",
            "\n",
            "Account ID: ETFARB Total Trades:  156483\n"
          ],
          "name": "stdout"
        },
        {
          "output_type": "display_data",
          "data": {
            "text/html": [
              "<div>\n",
              "<style scoped>\n",
              "    .dataframe tbody tr th:only-of-type {\n",
              "        vertical-align: middle;\n",
              "    }\n",
              "\n",
              "    .dataframe tbody tr th {\n",
              "        vertical-align: top;\n",
              "    }\n",
              "\n",
              "    .dataframe thead th {\n",
              "        text-align: right;\n",
              "    }\n",
              "</style>\n",
              "<table border=\"1\" class=\"dataframe\">\n",
              "  <thead>\n",
              "    <tr style=\"text-align: right;\">\n",
              "      <th>55</th>\n",
              "      <th>SSO</th>\n",
              "      <th>QLD</th>\n",
              "      <th>DBO</th>\n",
              "      <th>VXX</th>\n",
              "      <th>SOXX</th>\n",
              "      <th>FXI</th>\n",
              "      <th>YINN</th>\n",
              "      <th>CHAD</th>\n",
              "      <th>SVXY</th>\n",
              "      <th>TBF</th>\n",
              "      <th>UPRO</th>\n",
              "      <th>UVXY</th>\n",
              "      <th>TQQQ</th>\n",
              "      <th>GLD</th>\n",
              "      <th>UCO</th>\n",
              "      <th>SOXL</th>\n",
              "      <th>ASHR</th>\n",
              "      <th>USO</th>\n",
              "      <th>UGL</th>\n",
              "      <th>VIXY</th>\n",
              "      <th>SJNK</th>\n",
              "      <th>SHYG</th>\n",
              "      <th>TLT</th>\n",
              "      <th>TMV</th>\n",
              "      <th>TBT</th>\n",
              "    </tr>\n",
              "  </thead>\n",
              "  <tbody>\n",
              "    <tr>\n",
              "      <th>0</th>\n",
              "      <td>80889</td>\n",
              "      <td>25688</td>\n",
              "      <td>14823</td>\n",
              "      <td>14729</td>\n",
              "      <td>4520</td>\n",
              "      <td>3605</td>\n",
              "      <td>3091</td>\n",
              "      <td>2417</td>\n",
              "      <td>1650</td>\n",
              "      <td>1452</td>\n",
              "      <td>816</td>\n",
              "      <td>502</td>\n",
              "      <td>427</td>\n",
              "      <td>426</td>\n",
              "      <td>375</td>\n",
              "      <td>307</td>\n",
              "      <td>183</td>\n",
              "      <td>170</td>\n",
              "      <td>144</td>\n",
              "      <td>115</td>\n",
              "      <td>85</td>\n",
              "      <td>28</td>\n",
              "      <td>24</td>\n",
              "      <td>13</td>\n",
              "      <td>4</td>\n",
              "    </tr>\n",
              "  </tbody>\n",
              "</table>\n",
              "</div>"
            ],
            "text/plain": [
              "55    SSO    QLD    DBO    VXX  SOXX   FXI  ...  VIXY  SJNK  SHYG  TLT  TMV  TBT\n",
              "0   80889  25688  14823  14729  4520  3605  ...   115    85    28   24   13    4\n",
              "\n",
              "[1 rows x 25 columns]"
            ]
          },
          "metadata": {
            "tags": []
          }
        },
        {
          "output_type": "stream",
          "text": [
            "\n",
            "Account ID: CEC Total Trades:  200\n"
          ],
          "name": "stdout"
        },
        {
          "output_type": "display_data",
          "data": {
            "text/html": [
              "<div>\n",
              "<style scoped>\n",
              "    .dataframe tbody tr th:only-of-type {\n",
              "        vertical-align: middle;\n",
              "    }\n",
              "\n",
              "    .dataframe tbody tr th {\n",
              "        vertical-align: top;\n",
              "    }\n",
              "\n",
              "    .dataframe thead th {\n",
              "        text-align: right;\n",
              "    }\n",
              "</style>\n",
              "<table border=\"1\" class=\"dataframe\">\n",
              "  <thead>\n",
              "    <tr style=\"text-align: right;\">\n",
              "      <th>55</th>\n",
              "      <th>ZVZZT</th>\n",
              "      <th>UVV</th>\n",
              "      <th>BSX</th>\n",
              "      <th>SLG</th>\n",
              "      <th>COP</th>\n",
              "      <th>WRI</th>\n",
              "      <th>HR</th>\n",
              "      <th>BA</th>\n",
              "      <th>KR</th>\n",
              "      <th>ALL</th>\n",
              "      <th>WHR</th>\n",
              "      <th>GD</th>\n",
              "      <th>JBLU</th>\n",
              "      <th>MUR</th>\n",
              "      <th>SRE</th>\n",
              "      <th>CVS</th>\n",
              "      <th>T</th>\n",
              "      <th>CB</th>\n",
              "      <th>UDR</th>\n",
              "      <th>WMB</th>\n",
              "      <th>USM</th>\n",
              "      <th>WFC</th>\n",
              "      <th>MET</th>\n",
              "      <th>XOM</th>\n",
              "      <th>MMC</th>\n",
              "      <th>MMP</th>\n",
              "      <th>MO</th>\n",
              "      <th>LPX</th>\n",
              "      <th>TAP</th>\n",
              "      <th>NI</th>\n",
              "      <th>OKE</th>\n",
              "      <th>PRU</th>\n",
              "      <th>RAD</th>\n",
              "      <th>TRV</th>\n",
              "      <th>MCK</th>\n",
              "      <th>ADM</th>\n",
              "      <th>LLY</th>\n",
              "      <th>L</th>\n",
              "      <th>AIG</th>\n",
              "      <th>AMGN</th>\n",
              "      <th>AMKR</th>\n",
              "      <th>AVB</th>\n",
              "      <th>AVT</th>\n",
              "      <th>BAC</th>\n",
              "      <th>BMY</th>\n",
              "      <th>C</th>\n",
              "      <th>CAH</th>\n",
              "      <th>CI</th>\n",
              "      <th>CSCO</th>\n",
              "      <th>CVX</th>\n",
              "      <th>DHR</th>\n",
              "      <th>DIS</th>\n",
              "      <th>EMN</th>\n",
              "      <th>GS</th>\n",
              "      <th>HAS</th>\n",
              "      <th>HIG</th>\n",
              "      <th>JPM</th>\n",
              "      <th>AEP</th>\n",
              "      <th>KIM</th>\n",
              "      <th>JWN</th>\n",
              "    </tr>\n",
              "  </thead>\n",
              "  <tbody>\n",
              "    <tr>\n",
              "      <th>0</th>\n",
              "      <td>16</td>\n",
              "      <td>12</td>\n",
              "      <td>8</td>\n",
              "      <td>7</td>\n",
              "      <td>6</td>\n",
              "      <td>6</td>\n",
              "      <td>6</td>\n",
              "      <td>6</td>\n",
              "      <td>5</td>\n",
              "      <td>5</td>\n",
              "      <td>5</td>\n",
              "      <td>5</td>\n",
              "      <td>4</td>\n",
              "      <td>4</td>\n",
              "      <td>4</td>\n",
              "      <td>4</td>\n",
              "      <td>4</td>\n",
              "      <td>4</td>\n",
              "      <td>4</td>\n",
              "      <td>4</td>\n",
              "      <td>3</td>\n",
              "      <td>2</td>\n",
              "      <td>2</td>\n",
              "      <td>2</td>\n",
              "      <td>2</td>\n",
              "      <td>2</td>\n",
              "      <td>2</td>\n",
              "      <td>2</td>\n",
              "      <td>2</td>\n",
              "      <td>2</td>\n",
              "      <td>2</td>\n",
              "      <td>2</td>\n",
              "      <td>2</td>\n",
              "      <td>2</td>\n",
              "      <td>2</td>\n",
              "      <td>2</td>\n",
              "      <td>2</td>\n",
              "      <td>2</td>\n",
              "      <td>2</td>\n",
              "      <td>2</td>\n",
              "      <td>2</td>\n",
              "      <td>2</td>\n",
              "      <td>2</td>\n",
              "      <td>2</td>\n",
              "      <td>2</td>\n",
              "      <td>2</td>\n",
              "      <td>2</td>\n",
              "      <td>2</td>\n",
              "      <td>2</td>\n",
              "      <td>2</td>\n",
              "      <td>2</td>\n",
              "      <td>2</td>\n",
              "      <td>2</td>\n",
              "      <td>2</td>\n",
              "      <td>2</td>\n",
              "      <td>2</td>\n",
              "      <td>2</td>\n",
              "      <td>2</td>\n",
              "      <td>2</td>\n",
              "      <td>2</td>\n",
              "    </tr>\n",
              "  </tbody>\n",
              "</table>\n",
              "</div>"
            ],
            "text/plain": [
              "55  ZVZZT  UVV  BSX  SLG  COP  WRI  HR  ...  GS  HAS  HIG  JPM  AEP  KIM  JWN\n",
              "0      16   12    8    7    6    6   6  ...   2    2    2    2    2    2    2\n",
              "\n",
              "[1 rows x 60 columns]"
            ]
          },
          "metadata": {
            "tags": []
          }
        },
        {
          "output_type": "stream",
          "text": [
            "\n",
            "Account ID: REVCON Total Trades:  22796\n"
          ],
          "name": "stdout"
        },
        {
          "output_type": "display_data",
          "data": {
            "text/html": [
              "<div>\n",
              "<style scoped>\n",
              "    .dataframe tbody tr th:only-of-type {\n",
              "        vertical-align: middle;\n",
              "    }\n",
              "\n",
              "    .dataframe tbody tr th {\n",
              "        vertical-align: top;\n",
              "    }\n",
              "\n",
              "    .dataframe thead th {\n",
              "        text-align: right;\n",
              "    }\n",
              "</style>\n",
              "<table border=\"1\" class=\"dataframe\">\n",
              "  <thead>\n",
              "    <tr style=\"text-align: right;\">\n",
              "      <th>55</th>\n",
              "      <th>NKLA</th>\n",
              "      <th>FSR</th>\n",
              "      <th>ACB</th>\n",
              "      <th>WKHS</th>\n",
              "      <th>BLNK</th>\n",
              "      <th>SBE</th>\n",
              "      <th>XPEV</th>\n",
              "      <th>QS</th>\n",
              "      <th>RIDE</th>\n",
              "      <th>CLVS</th>\n",
              "      <th>INO</th>\n",
              "      <th>TLRY</th>\n",
              "      <th>SDC</th>\n",
              "      <th>MPLN</th>\n",
              "      <th>LMND</th>\n",
              "      <th>JWN</th>\n",
              "      <th>GME</th>\n",
              "      <th>HYLN</th>\n",
              "      <th>PLTR</th>\n",
              "      <th>SPCE</th>\n",
              "      <th>NNOX</th>\n",
              "      <th>HTZGQ</th>\n",
              "      <th>KNDI</th>\n",
              "      <th>PIC</th>\n",
              "      <th>SRNE</th>\n",
              "      <th>FUBO</th>\n",
              "      <th>GTT</th>\n",
              "      <th>TTCF</th>\n",
              "      <th>GRWG</th>\n",
              "      <th>RKT</th>\n",
              "      <th>RVLV</th>\n",
              "      <th>IBIO</th>\n",
              "      <th>AMC</th>\n",
              "      <th>VXRT</th>\n",
              "      <th>KODK</th>\n",
              "      <th>SPWR</th>\n",
              "      <th>MAC</th>\n",
              "    </tr>\n",
              "  </thead>\n",
              "  <tbody>\n",
              "    <tr>\n",
              "      <th>0</th>\n",
              "      <td>2387</td>\n",
              "      <td>2269</td>\n",
              "      <td>1946</td>\n",
              "      <td>1865</td>\n",
              "      <td>1576</td>\n",
              "      <td>1485</td>\n",
              "      <td>1405</td>\n",
              "      <td>1391</td>\n",
              "      <td>1225</td>\n",
              "      <td>1177</td>\n",
              "      <td>964</td>\n",
              "      <td>837</td>\n",
              "      <td>814</td>\n",
              "      <td>778</td>\n",
              "      <td>667</td>\n",
              "      <td>527</td>\n",
              "      <td>362</td>\n",
              "      <td>226</td>\n",
              "      <td>212</td>\n",
              "      <td>173</td>\n",
              "      <td>153</td>\n",
              "      <td>128</td>\n",
              "      <td>60</td>\n",
              "      <td>32</td>\n",
              "      <td>28</td>\n",
              "      <td>20</td>\n",
              "      <td>15</td>\n",
              "      <td>13</td>\n",
              "      <td>12</td>\n",
              "      <td>12</td>\n",
              "      <td>9</td>\n",
              "      <td>9</td>\n",
              "      <td>8</td>\n",
              "      <td>4</td>\n",
              "      <td>3</td>\n",
              "      <td>2</td>\n",
              "      <td>2</td>\n",
              "    </tr>\n",
              "  </tbody>\n",
              "</table>\n",
              "</div>"
            ],
            "text/plain": [
              "55  NKLA   FSR   ACB  WKHS  BLNK   SBE  ...  IBIO  AMC  VXRT  KODK  SPWR  MAC\n",
              "0   2387  2269  1946  1865  1576  1485  ...     9    8     4     3     2    2\n",
              "\n",
              "[1 rows x 37 columns]"
            ]
          },
          "metadata": {
            "tags": []
          }
        },
        {
          "output_type": "stream",
          "text": [
            "\n",
            "Account ID: OPSPRTRD Total Trades:  19193\n"
          ],
          "name": "stdout"
        },
        {
          "output_type": "display_data",
          "data": {
            "text/html": [
              "<div>\n",
              "<style scoped>\n",
              "    .dataframe tbody tr th:only-of-type {\n",
              "        vertical-align: middle;\n",
              "    }\n",
              "\n",
              "    .dataframe tbody tr th {\n",
              "        vertical-align: top;\n",
              "    }\n",
              "\n",
              "    .dataframe thead th {\n",
              "        text-align: right;\n",
              "    }\n",
              "</style>\n",
              "<table border=\"1\" class=\"dataframe\">\n",
              "  <thead>\n",
              "    <tr style=\"text-align: right;\">\n",
              "      <th>55</th>\n",
              "      <th>TSLA</th>\n",
              "      <th>AMZN</th>\n",
              "      <th>AAPL</th>\n",
              "      <th>BABA</th>\n",
              "      <th>MRNA</th>\n",
              "      <th>SPXW</th>\n",
              "      <th>BA</th>\n",
              "      <th>PTON</th>\n",
              "      <th>NFLX</th>\n",
              "      <th>MSFT</th>\n",
              "      <th>OSTK</th>\n",
              "      <th>FSR</th>\n",
              "      <th>ROKU</th>\n",
              "      <th>NIO</th>\n",
              "      <th>RIOT</th>\n",
              "      <th>AMD</th>\n",
              "      <th>NKLA</th>\n",
              "      <th>RIDE</th>\n",
              "      <th>LI</th>\n",
              "      <th>PANW</th>\n",
              "      <th>FSLY</th>\n",
              "      <th>DBX</th>\n",
              "      <th>LULU</th>\n",
              "      <th>WORK</th>\n",
              "      <th>QCOM</th>\n",
              "      <th>WMT</th>\n",
              "      <th>SNOW</th>\n",
              "      <th>FB</th>\n",
              "      <th>ACB</th>\n",
              "      <th>BIGC</th>\n",
              "      <th>PYPL</th>\n",
              "      <th>ZM</th>\n",
              "      <th>SPCE</th>\n",
              "      <th>DIS</th>\n",
              "      <th>DKNG</th>\n",
              "      <th>BIIB</th>\n",
              "      <th>TSM</th>\n",
              "      <th>AMAT</th>\n",
              "      <th>RH</th>\n",
              "      <th>GRWG</th>\n",
              "      <th>ARLO</th>\n",
              "      <th>MU</th>\n",
              "      <th>KNDI</th>\n",
              "      <th>DDOG</th>\n",
              "      <th>GOOGL</th>\n",
              "      <th>CRM</th>\n",
              "      <th>RNG</th>\n",
              "      <th>FSLR</th>\n",
              "      <th>SHOP</th>\n",
              "      <th>SNAP</th>\n",
              "      <th>DOCU</th>\n",
              "      <th>SPX</th>\n",
              "      <th>QQQ</th>\n",
              "      <th>CLDR</th>\n",
              "      <th>KODK</th>\n",
              "      <th>SBUX</th>\n",
              "      <th>SNDL</th>\n",
              "      <th>SPG</th>\n",
              "      <th>TGT</th>\n",
              "      <th>UBER</th>\n",
              "      <th>TWTR</th>\n",
              "      <th>NLS</th>\n",
              "      <th>KXIN</th>\n",
              "      <th>RKT</th>\n",
              "      <th>YY</th>\n",
              "      <th>FTCH</th>\n",
              "      <th>BKNG</th>\n",
              "      <th>IWM</th>\n",
              "      <th>NDXP</th>\n",
              "      <th>BLNK</th>\n",
              "      <th>F</th>\n",
              "      <th>GE</th>\n",
              "      <th>SPY</th>\n",
              "      <th>SLV</th>\n",
              "      <th>RCL</th>\n",
              "      <th>SOLO</th>\n",
              "    </tr>\n",
              "  </thead>\n",
              "  <tbody>\n",
              "    <tr>\n",
              "      <th>0</th>\n",
              "      <td>3599</td>\n",
              "      <td>1971</td>\n",
              "      <td>1797</td>\n",
              "      <td>755</td>\n",
              "      <td>738</td>\n",
              "      <td>737</td>\n",
              "      <td>673</td>\n",
              "      <td>614</td>\n",
              "      <td>440</td>\n",
              "      <td>384</td>\n",
              "      <td>347</td>\n",
              "      <td>343</td>\n",
              "      <td>333</td>\n",
              "      <td>324</td>\n",
              "      <td>287</td>\n",
              "      <td>280</td>\n",
              "      <td>272</td>\n",
              "      <td>266</td>\n",
              "      <td>249</td>\n",
              "      <td>235</td>\n",
              "      <td>228</td>\n",
              "      <td>212</td>\n",
              "      <td>204</td>\n",
              "      <td>200</td>\n",
              "      <td>194</td>\n",
              "      <td>188</td>\n",
              "      <td>186</td>\n",
              "      <td>182</td>\n",
              "      <td>179</td>\n",
              "      <td>160</td>\n",
              "      <td>152</td>\n",
              "      <td>148</td>\n",
              "      <td>145</td>\n",
              "      <td>142</td>\n",
              "      <td>138</td>\n",
              "      <td>136</td>\n",
              "      <td>134</td>\n",
              "      <td>117</td>\n",
              "      <td>112</td>\n",
              "      <td>102</td>\n",
              "      <td>99</td>\n",
              "      <td>90</td>\n",
              "      <td>83</td>\n",
              "      <td>83</td>\n",
              "      <td>80</td>\n",
              "      <td>78</td>\n",
              "      <td>75</td>\n",
              "      <td>74</td>\n",
              "      <td>72</td>\n",
              "      <td>56</td>\n",
              "      <td>53</td>\n",
              "      <td>48</td>\n",
              "      <td>39</td>\n",
              "      <td>31</td>\n",
              "      <td>28</td>\n",
              "      <td>27</td>\n",
              "      <td>25</td>\n",
              "      <td>25</td>\n",
              "      <td>24</td>\n",
              "      <td>24</td>\n",
              "      <td>24</td>\n",
              "      <td>20</td>\n",
              "      <td>17</td>\n",
              "      <td>13</td>\n",
              "      <td>12</td>\n",
              "      <td>12</td>\n",
              "      <td>12</td>\n",
              "      <td>12</td>\n",
              "      <td>9</td>\n",
              "      <td>9</td>\n",
              "      <td>8</td>\n",
              "      <td>7</td>\n",
              "      <td>6</td>\n",
              "      <td>6</td>\n",
              "      <td>6</td>\n",
              "      <td>3</td>\n",
              "    </tr>\n",
              "  </tbody>\n",
              "</table>\n",
              "</div>"
            ],
            "text/plain": [
              "55  TSLA  AMZN  AAPL  BABA  MRNA  SPXW   BA  ...  BLNK  F  GE  SPY  SLV  RCL  SOLO\n",
              "0   3599  1971  1797   755   738   737  673  ...     9  8   7    6    6    6     3\n",
              "\n",
              "[1 rows x 76 columns]"
            ]
          },
          "metadata": {
            "tags": []
          }
        },
        {
          "output_type": "stream",
          "text": [
            "\n",
            "Account ID: STOCKLOANPROP Total Trades:  244\n"
          ],
          "name": "stdout"
        },
        {
          "output_type": "display_data",
          "data": {
            "text/html": [
              "<div>\n",
              "<style scoped>\n",
              "    .dataframe tbody tr th:only-of-type {\n",
              "        vertical-align: middle;\n",
              "    }\n",
              "\n",
              "    .dataframe tbody tr th {\n",
              "        vertical-align: top;\n",
              "    }\n",
              "\n",
              "    .dataframe thead th {\n",
              "        text-align: right;\n",
              "    }\n",
              "</style>\n",
              "<table border=\"1\" class=\"dataframe\">\n",
              "  <thead>\n",
              "    <tr style=\"text-align: right;\">\n",
              "      <th>55</th>\n",
              "      <th>HYLN</th>\n",
              "    </tr>\n",
              "  </thead>\n",
              "  <tbody>\n",
              "    <tr>\n",
              "      <th>0</th>\n",
              "      <td>244</td>\n",
              "    </tr>\n",
              "  </tbody>\n",
              "</table>\n",
              "</div>"
            ],
            "text/plain": [
              "55  HYLN\n",
              "0    244"
            ]
          },
          "metadata": {
            "tags": []
          }
        },
        {
          "output_type": "stream",
          "text": [
            "\n",
            "Account ID: DEFAULT Total Trades:  7889\n"
          ],
          "name": "stdout"
        },
        {
          "output_type": "display_data",
          "data": {
            "text/html": [
              "<div>\n",
              "<style scoped>\n",
              "    .dataframe tbody tr th:only-of-type {\n",
              "        vertical-align: middle;\n",
              "    }\n",
              "\n",
              "    .dataframe tbody tr th {\n",
              "        vertical-align: top;\n",
              "    }\n",
              "\n",
              "    .dataframe thead th {\n",
              "        text-align: right;\n",
              "    }\n",
              "</style>\n",
              "<table border=\"1\" class=\"dataframe\">\n",
              "  <thead>\n",
              "    <tr style=\"text-align: right;\">\n",
              "      <th>55</th>\n",
              "      <th>XPEV</th>\n",
              "      <th>GME</th>\n",
              "      <th>TSLA</th>\n",
              "      <th>FSR</th>\n",
              "      <th>ZM</th>\n",
              "      <th>INO</th>\n",
              "      <th>NKLA</th>\n",
              "      <th>PTON</th>\n",
              "      <th>CLVS</th>\n",
              "      <th>ACB</th>\n",
              "      <th>ROKU</th>\n",
              "      <th>BA</th>\n",
              "      <th>WKHS</th>\n",
              "      <th>TLRY</th>\n",
              "      <th>PYPL</th>\n",
              "      <th>QS</th>\n",
              "      <th>SHOP</th>\n",
              "      <th>RIDE</th>\n",
              "      <th>PANW</th>\n",
              "      <th>NIO</th>\n",
              "      <th>AMD</th>\n",
              "      <th>DIS</th>\n",
              "      <th>LULU</th>\n",
              "      <th>BLNK</th>\n",
              "      <th>HYLN</th>\n",
              "      <th>SQ</th>\n",
              "      <th>TWLO</th>\n",
              "      <th>NFLX</th>\n",
              "      <th>KNDI</th>\n",
              "      <th>SBE</th>\n",
              "      <th>DDOG</th>\n",
              "      <th>SNAP</th>\n",
              "      <th>LMND</th>\n",
              "      <th>SPCE</th>\n",
              "      <th>DOCU</th>\n",
              "      <th>MU</th>\n",
              "      <th>NNOX</th>\n",
              "      <th>TGT</th>\n",
              "      <th>LI</th>\n",
              "      <th>QCOM</th>\n",
              "      <th>PLTR</th>\n",
              "      <th>BABA</th>\n",
              "      <th>MAC</th>\n",
              "      <th>MRNA</th>\n",
              "      <th>WORK</th>\n",
              "      <th>NVDA</th>\n",
              "      <th>SPXW</th>\n",
              "      <th>AMZN</th>\n",
              "      <th>SPWR</th>\n",
              "      <th>SDC</th>\n",
              "      <th>JWN</th>\n",
              "      <th>GRWG</th>\n",
              "    </tr>\n",
              "  </thead>\n",
              "  <tbody>\n",
              "    <tr>\n",
              "      <th>0</th>\n",
              "      <td>816</td>\n",
              "      <td>753</td>\n",
              "      <td>512</td>\n",
              "      <td>490</td>\n",
              "      <td>446</td>\n",
              "      <td>393</td>\n",
              "      <td>326</td>\n",
              "      <td>320</td>\n",
              "      <td>306</td>\n",
              "      <td>296</td>\n",
              "      <td>260</td>\n",
              "      <td>229</td>\n",
              "      <td>221</td>\n",
              "      <td>210</td>\n",
              "      <td>206</td>\n",
              "      <td>184</td>\n",
              "      <td>180</td>\n",
              "      <td>150</td>\n",
              "      <td>136</td>\n",
              "      <td>128</td>\n",
              "      <td>121</td>\n",
              "      <td>105</td>\n",
              "      <td>95</td>\n",
              "      <td>94</td>\n",
              "      <td>94</td>\n",
              "      <td>76</td>\n",
              "      <td>69</td>\n",
              "      <td>64</td>\n",
              "      <td>58</td>\n",
              "      <td>54</td>\n",
              "      <td>46</td>\n",
              "      <td>42</td>\n",
              "      <td>42</td>\n",
              "      <td>42</td>\n",
              "      <td>38</td>\n",
              "      <td>38</td>\n",
              "      <td>36</td>\n",
              "      <td>32</td>\n",
              "      <td>29</td>\n",
              "      <td>26</td>\n",
              "      <td>24</td>\n",
              "      <td>16</td>\n",
              "      <td>16</td>\n",
              "      <td>12</td>\n",
              "      <td>10</td>\n",
              "      <td>9</td>\n",
              "      <td>9</td>\n",
              "      <td>9</td>\n",
              "      <td>8</td>\n",
              "      <td>5</td>\n",
              "      <td>4</td>\n",
              "      <td>4</td>\n",
              "    </tr>\n",
              "  </tbody>\n",
              "</table>\n",
              "</div>"
            ],
            "text/plain": [
              "55  XPEV  GME  TSLA  FSR   ZM  INO  ...  SPXW  AMZN  SPWR  SDC  JWN  GRWG\n",
              "0    816  753   512  490  446  393  ...     9     9     8    5    4     4\n",
              "\n",
              "[1 rows x 52 columns]"
            ]
          },
          "metadata": {
            "tags": []
          }
        },
        {
          "output_type": "stream",
          "text": [
            "\n",
            "Account ID: REVCO Total Trades:  24\n"
          ],
          "name": "stdout"
        },
        {
          "output_type": "display_data",
          "data": {
            "text/html": [
              "<div>\n",
              "<style scoped>\n",
              "    .dataframe tbody tr th:only-of-type {\n",
              "        vertical-align: middle;\n",
              "    }\n",
              "\n",
              "    .dataframe tbody tr th {\n",
              "        vertical-align: top;\n",
              "    }\n",
              "\n",
              "    .dataframe thead th {\n",
              "        text-align: right;\n",
              "    }\n",
              "</style>\n",
              "<table border=\"1\" class=\"dataframe\">\n",
              "  <thead>\n",
              "    <tr style=\"text-align: right;\">\n",
              "      <th>55</th>\n",
              "      <th>RIDE</th>\n",
              "      <th>NNOX</th>\n",
              "      <th>CLVS</th>\n",
              "      <th>HYLN</th>\n",
              "      <th>ACB</th>\n",
              "      <th>FSR</th>\n",
              "      <th>SPCE</th>\n",
              "      <th>TLRY</th>\n",
              "      <th>WKHS</th>\n",
              "      <th>XPEV</th>\n",
              "    </tr>\n",
              "  </thead>\n",
              "  <tbody>\n",
              "    <tr>\n",
              "      <th>0</th>\n",
              "      <td>5</td>\n",
              "      <td>4</td>\n",
              "      <td>3</td>\n",
              "      <td>3</td>\n",
              "      <td>2</td>\n",
              "      <td>2</td>\n",
              "      <td>2</td>\n",
              "      <td>1</td>\n",
              "      <td>1</td>\n",
              "      <td>1</td>\n",
              "    </tr>\n",
              "  </tbody>\n",
              "</table>\n",
              "</div>"
            ],
            "text/plain": [
              "55  RIDE  NNOX  CLVS  HYLN  ACB  FSR  SPCE  TLRY  WKHS  XPEV\n",
              "0      5     4     3     3    2    2     2     1     1     1"
            ]
          },
          "metadata": {
            "tags": []
          }
        },
        {
          "output_type": "stream",
          "text": [
            "\n",
            "Account ID: REV Total Trades:  21\n"
          ],
          "name": "stdout"
        },
        {
          "output_type": "display_data",
          "data": {
            "text/html": [
              "<div>\n",
              "<style scoped>\n",
              "    .dataframe tbody tr th:only-of-type {\n",
              "        vertical-align: middle;\n",
              "    }\n",
              "\n",
              "    .dataframe tbody tr th {\n",
              "        vertical-align: top;\n",
              "    }\n",
              "\n",
              "    .dataframe thead th {\n",
              "        text-align: right;\n",
              "    }\n",
              "</style>\n",
              "<table border=\"1\" class=\"dataframe\">\n",
              "  <thead>\n",
              "    <tr style=\"text-align: right;\">\n",
              "      <th>55</th>\n",
              "      <th>CLVS</th>\n",
              "      <th>XPEV</th>\n",
              "      <th>SPCE</th>\n",
              "      <th>SPWR</th>\n",
              "      <th>ACB</th>\n",
              "      <th>PLTR</th>\n",
              "    </tr>\n",
              "  </thead>\n",
              "  <tbody>\n",
              "    <tr>\n",
              "      <th>0</th>\n",
              "      <td>8</td>\n",
              "      <td>6</td>\n",
              "      <td>3</td>\n",
              "      <td>2</td>\n",
              "      <td>1</td>\n",
              "      <td>1</td>\n",
              "    </tr>\n",
              "  </tbody>\n",
              "</table>\n",
              "</div>"
            ],
            "text/plain": [
              "55  CLVS  XPEV  SPCE  SPWR  ACB  PLTR\n",
              "0      8     6     3     2    1     1"
            ]
          },
          "metadata": {
            "tags": []
          }
        },
        {
          "output_type": "stream",
          "text": [
            "\n",
            "Account ID: REVC Total Trades:  31\n"
          ],
          "name": "stdout"
        },
        {
          "output_type": "display_data",
          "data": {
            "text/html": [
              "<div>\n",
              "<style scoped>\n",
              "    .dataframe tbody tr th:only-of-type {\n",
              "        vertical-align: middle;\n",
              "    }\n",
              "\n",
              "    .dataframe tbody tr th {\n",
              "        vertical-align: top;\n",
              "    }\n",
              "\n",
              "    .dataframe thead th {\n",
              "        text-align: right;\n",
              "    }\n",
              "</style>\n",
              "<table border=\"1\" class=\"dataframe\">\n",
              "  <thead>\n",
              "    <tr style=\"text-align: right;\">\n",
              "      <th>55</th>\n",
              "      <th>FSR</th>\n",
              "      <th>XPEV</th>\n",
              "      <th>CLVS</th>\n",
              "      <th>ACB</th>\n",
              "      <th>GME</th>\n",
              "      <th>TLRY</th>\n",
              "      <th>NKLA</th>\n",
              "      <th>SPCE</th>\n",
              "    </tr>\n",
              "  </thead>\n",
              "  <tbody>\n",
              "    <tr>\n",
              "      <th>0</th>\n",
              "      <td>11</td>\n",
              "      <td>7</td>\n",
              "      <td>5</td>\n",
              "      <td>2</td>\n",
              "      <td>2</td>\n",
              "      <td>2</td>\n",
              "      <td>1</td>\n",
              "      <td>1</td>\n",
              "    </tr>\n",
              "  </tbody>\n",
              "</table>\n",
              "</div>"
            ],
            "text/plain": [
              "55  FSR  XPEV  CLVS  ACB  GME  TLRY  NKLA  SPCE\n",
              "0    11     7     5    2    2     2     1     1"
            ]
          },
          "metadata": {
            "tags": []
          }
        },
        {
          "output_type": "stream",
          "text": [
            "\n",
            "Account ID: RE Total Trades:  15\n"
          ],
          "name": "stdout"
        },
        {
          "output_type": "display_data",
          "data": {
            "text/html": [
              "<div>\n",
              "<style scoped>\n",
              "    .dataframe tbody tr th:only-of-type {\n",
              "        vertical-align: middle;\n",
              "    }\n",
              "\n",
              "    .dataframe tbody tr th {\n",
              "        vertical-align: top;\n",
              "    }\n",
              "\n",
              "    .dataframe thead th {\n",
              "        text-align: right;\n",
              "    }\n",
              "</style>\n",
              "<table border=\"1\" class=\"dataframe\">\n",
              "  <thead>\n",
              "    <tr style=\"text-align: right;\">\n",
              "      <th>55</th>\n",
              "      <th>RIDE</th>\n",
              "      <th>CLVS</th>\n",
              "      <th>TLRY</th>\n",
              "      <th>ACB</th>\n",
              "      <th>XPEV</th>\n",
              "    </tr>\n",
              "  </thead>\n",
              "  <tbody>\n",
              "    <tr>\n",
              "      <th>0</th>\n",
              "      <td>5</td>\n",
              "      <td>3</td>\n",
              "      <td>3</td>\n",
              "      <td>2</td>\n",
              "      <td>2</td>\n",
              "    </tr>\n",
              "  </tbody>\n",
              "</table>\n",
              "</div>"
            ],
            "text/plain": [
              "55  RIDE  CLVS  TLRY  ACB  XPEV\n",
              "0      5     3     3    2     2"
            ]
          },
          "metadata": {
            "tags": []
          }
        },
        {
          "output_type": "stream",
          "text": [
            "\n",
            "Account ID: R Total Trades:  8\n"
          ],
          "name": "stdout"
        },
        {
          "output_type": "display_data",
          "data": {
            "text/html": [
              "<div>\n",
              "<style scoped>\n",
              "    .dataframe tbody tr th:only-of-type {\n",
              "        vertical-align: middle;\n",
              "    }\n",
              "\n",
              "    .dataframe tbody tr th {\n",
              "        vertical-align: top;\n",
              "    }\n",
              "\n",
              "    .dataframe thead th {\n",
              "        text-align: right;\n",
              "    }\n",
              "</style>\n",
              "<table border=\"1\" class=\"dataframe\">\n",
              "  <thead>\n",
              "    <tr style=\"text-align: right;\">\n",
              "      <th>55</th>\n",
              "      <th>XPEV</th>\n",
              "      <th>HTZGQ</th>\n",
              "      <th>ACB</th>\n",
              "      <th>CLVS</th>\n",
              "    </tr>\n",
              "  </thead>\n",
              "  <tbody>\n",
              "    <tr>\n",
              "      <th>0</th>\n",
              "      <td>4</td>\n",
              "      <td>2</td>\n",
              "      <td>1</td>\n",
              "      <td>1</td>\n",
              "    </tr>\n",
              "  </tbody>\n",
              "</table>\n",
              "</div>"
            ],
            "text/plain": [
              "55  XPEV  HTZGQ  ACB  CLVS\n",
              "0      4      2    1     1"
            ]
          },
          "metadata": {
            "tags": []
          }
        },
        {
          "output_type": "stream",
          "text": [
            "\n",
            "Account ID: EMS-JSC Total Trades:  14\n"
          ],
          "name": "stdout"
        },
        {
          "output_type": "display_data",
          "data": {
            "text/html": [
              "<div>\n",
              "<style scoped>\n",
              "    .dataframe tbody tr th:only-of-type {\n",
              "        vertical-align: middle;\n",
              "    }\n",
              "\n",
              "    .dataframe tbody tr th {\n",
              "        vertical-align: top;\n",
              "    }\n",
              "\n",
              "    .dataframe thead th {\n",
              "        text-align: right;\n",
              "    }\n",
              "</style>\n",
              "<table border=\"1\" class=\"dataframe\">\n",
              "  <thead>\n",
              "    <tr style=\"text-align: right;\">\n",
              "      <th>55</th>\n",
              "      <th>SPY</th>\n",
              "    </tr>\n",
              "  </thead>\n",
              "  <tbody>\n",
              "    <tr>\n",
              "      <th>0</th>\n",
              "      <td>14</td>\n",
              "    </tr>\n",
              "  </tbody>\n",
              "</table>\n",
              "</div>"
            ],
            "text/plain": [
              "55  SPY\n",
              "0    14"
            ]
          },
          "metadata": {
            "tags": []
          }
        },
        {
          "output_type": "stream",
          "text": [
            "\n",
            "Account ID: OPSP Total Trades:  1\n"
          ],
          "name": "stdout"
        },
        {
          "output_type": "display_data",
          "data": {
            "text/html": [
              "<div>\n",
              "<style scoped>\n",
              "    .dataframe tbody tr th:only-of-type {\n",
              "        vertical-align: middle;\n",
              "    }\n",
              "\n",
              "    .dataframe tbody tr th {\n",
              "        vertical-align: top;\n",
              "    }\n",
              "\n",
              "    .dataframe thead th {\n",
              "        text-align: right;\n",
              "    }\n",
              "</style>\n",
              "<table border=\"1\" class=\"dataframe\">\n",
              "  <thead>\n",
              "    <tr style=\"text-align: right;\">\n",
              "      <th>55</th>\n",
              "      <th>SPXW</th>\n",
              "    </tr>\n",
              "  </thead>\n",
              "  <tbody>\n",
              "    <tr>\n",
              "      <th>0</th>\n",
              "      <td>1</td>\n",
              "    </tr>\n",
              "  </tbody>\n",
              "</table>\n",
              "</div>"
            ],
            "text/plain": [
              "55  SPXW\n",
              "0      1"
            ]
          },
          "metadata": {
            "tags": []
          }
        }
      ]
    },
    {
      "cell_type": "code",
      "metadata": {
        "id": "UruAXGMrr5Rg",
        "colab": {
          "base_uri": "https://localhost:8080/",
          "height": 372
        },
        "outputId": "04fd43b2-9594-41d8-b8ae-89016467928a"
      },
      "source": [
        "#Trade activity at a given time.\r\n",
        "print(hours_count)\r\n",
        "#print(dt[0])\r\n",
        "import seaborn as sns\r\n",
        "import matplotlib.pyplot as plt\r\n",
        "\r\n",
        "sns.set(rc={'figure.figsize':(10,5)})\r\n",
        "sns.set_style(\"ticks\")\r\n",
        "\r\n",
        "plt.xlabel('Hour')\r\n",
        "plt.ylabel('Activity')\r\n",
        "plt.title('Activity-Hour')\r\n",
        "sns.lineplot(data=hours_count, marker='o')\r\n",
        "plt.show()"
      ],
      "execution_count": 89,
      "outputs": [
        {
          "output_type": "stream",
          "text": [
            "Counter({16: 68378, 15: 67157, 18: 58330, 17: 54894, 20: 48659, 19: 45350, 14: 28625, 21: 1578, 13: 492})\n"
          ],
          "name": "stdout"
        },
        {
          "output_type": "display_data",
          "data": {
            "image/png": "[encoded data removed]",
            "text/plain": [
              "<Figure size 720x360 with 1 Axes>"
            ]
          },
          "metadata": {
            "tags": []
          }
        }
      ]
    },
    {
      "cell_type": "code",
      "metadata": {
        "colab": {
          "base_uri": "https://localhost:8080/",
          "height": 495
        },
        "id": "dK2a4Fz0FHSR",
        "outputId": "4541414f-824e-411e-e121-3b4fd918d958"
      },
      "source": [
        "#Securities traded during weekdays\r\n",
        "weekday_df = pd.DataFrame.from_dict(Counter(weekday_count), orient='index').reset_index()\r\n",
        "weekday_df.columns =['WeekDay', 'Activity']\r\n",
        "weekday_df['DayNumber'] = [0,4,2,1,3] \r\n",
        "weekday_df = weekday_df.sort_values(by='DayNumber')\r\n",
        "print(weekday_df)\r\n",
        "graph = sns.lineplot(weekday_df.WeekDay, weekday_df.Activity, marker='o')\r\n",
        "plt.show()"
      ],
      "execution_count": 90,
      "outputs": [
        {
          "output_type": "stream",
          "text": [
            "     WeekDay  Activity  DayNumber\n",
            "0     Monday     83234          0\n",
            "3    Tuesday     97687          1\n",
            "2  Wednesday     67062          2\n",
            "4   Thursday     60556          3\n",
            "1     Friday     64924          4\n"
          ],
          "name": "stdout"
        },
        {
          "output_type": "stream",
          "text": [
            "/usr/local/lib/python3.6/dist-packages/seaborn/_decorators.py:43: FutureWarning: Pass the following variables as keyword args: x, y. From version 0.12, the only valid positional argument will be `data`, and passing other arguments without an explicit keyword will result in an error or misinterpretation.\n",
            "  FutureWarning\n"
          ],
          "name": "stderr"
        },
        {
          "output_type": "display_data",
          "data": {
            "image/png": "[encoded data removed]",
            "text/plain": [
              "<Figure size 720x360 with 1 Axes>"
            ]
          },
          "metadata": {
            "tags": []
          }
        }
      ]
    },
    {
      "cell_type": "code",
      "metadata": {
        "id": "LBPv7attsA9Q",
        "colab": {
          "base_uri": "https://localhost:8080/",
          "height": 767
        },
        "outputId": "8479cd0e-9822-4b0d-ffa0-7058f90f4eda"
      },
      "source": [
        "#How many securities are traded during the day.\r\n",
        "\r\n",
        "days_df = pd.DataFrame.from_dict(Counter(days_count), orient='index').reset_index()\r\n",
        "days_df.columns =['MonthDay', 'Activity']\r\n",
        "days_df = days_df.sort_values(by='MonthDay')\r\n",
        "print(days_df)\r\n",
        "graph = sns.lineplot(days_df.MonthDay, days_df.Activity, marker='o')\r\n",
        "plt.show()"
      ],
      "execution_count": 91,
      "outputs": [
        {
          "output_type": "stream",
          "text": [
            "    MonthDay  Activity\n",
            "8          1      6656\n",
            "0          2     41600\n",
            "6          3     20778\n",
            "2          4     30201\n",
            "4          5     24080\n",
            "1          6     12787\n",
            "5          9      6640\n",
            "3         10     13893\n",
            "13        11     11359\n",
            "14        12     29609\n",
            "15        13      5093\n",
            "19        16      2719\n",
            "20        17      4503\n",
            "9         18      5946\n",
            "7         19      6867\n",
            "12        20     44772\n",
            "18        23     26129\n",
            "10        24     51857\n",
            "17        25     19556\n",
            "11        27      2272\n",
            "16        30      6146\n"
          ],
          "name": "stdout"
        },
        {
          "output_type": "stream",
          "text": [
            "/usr/local/lib/python3.6/dist-packages/seaborn/_decorators.py:43: FutureWarning: Pass the following variables as keyword args: x, y. From version 0.12, the only valid positional argument will be `data`, and passing other arguments without an explicit keyword will result in an error or misinterpretation.\n",
            "  FutureWarning\n"
          ],
          "name": "stderr"
        },
        {
          "output_type": "display_data",
          "data": {
            "image/png": "[encoded data removed]",
            "text/plain": [
              "<Figure size 720x360 with 1 Axes>"
            ]
          },
          "metadata": {
            "tags": []
          }
        }
      ]
    },
    {
      "cell_type": "code",
      "metadata": {
        "id": "ksibLE1hsII_",
        "colab": {
          "base_uri": "https://localhost:8080/"
        },
        "outputId": "a36d4eb4-6d68-4f62-b9c8-d9946c29646e"
      },
      "source": [
        "#Most traded securities.\r\n",
        "Securities_count = Counter(dataFrame['55'])\r\n",
        "print(Securities_count)"
      ],
      "execution_count": 92,
      "outputs": [
        {
          "output_type": "stream",
          "text": [
            "Counter({'SSO': 161468, 'QLD': 51224, 'DBO': 29456, 'VXX': 29009, 'SOXX': 8965, 'FXI': 6813, 'YINN': 5969, 'TSLA': 4906, 'CHAD': 4828, -1: 4696, 'FSR': 3781, 'NKLA': 3163, 'SVXY': 3048, 'TBF': 2873, 'QS': 2730, 'AMZN': 2702, 'SBE': 2563, 'ACB': 2537, 'XPEV': 2363, 'AAPL': 2352, 'WKHS': 2247, 'RIDE': 1986, 'BLNK': 1842, 'CLVS': 1598, 'INO': 1367, 'UPRO': 1287, 'GME': 1211, 'TLRY': 1181, 'SPXW': 1175, 'BA': 1026, 'BABA': 999, 'PTON': 991, 'SDC': 826, 'GLD': 817, 'LMND': 790, 'MPLN': 779, 'MRNA': 767, 'UVXY': 743, 'TQQQ': 698, 'HYLN': 654, 'JWN': 622, 'ROKU': 611, 'ZM': 605, 'UCO': 604, 'SOXL': 560, 'NFLX': 518, 'NIO': 472, 'OSTK': 461, 'MSFT': 447, 'AMD': 446, 'PANW': 441, 'SPCE': 421, 'LI': 374, 'PYPL': 373, 'RIOT': 348, 'LULU': 299, 'ASHR': 274, 'FB': 261, 'USO': 258, 'DIS': 257, 'SHOP': 253, 'PLTR': 250, 'KNDI': 247, 'QCOM': 240, 'WORK': 240, 'UGL': 231, 'FSLY': 229, 'NNOX': 225, 'DBX': 222, 'HTZGQ': 209, 'SNOW': 202, 'WMT': 189, 'GRWG': 172, 'VIXY': 170, 'SJNK': 162, 'BIGC': 160, 'BIIB': 152, 'DKNG': 150, 'DDOG': 139, 'TSM': 138, 'MU': 132, 'AMAT': 129, 'RH': 112, 'ARLO': 107, 'SNAP': 99, 'DOCU': 92, 'GOOGL': 81, 'CRM': 80, 'RNG': 77, 'SQ': 76, 'FSLR': 74, 'SPX': 73, 'TWLO': 69, 'QQQ': 66, 'TGT': 56, 'KODK': 48, 'CLDR': 46, 'SHYG': 45, 'SRNE': 37, 'TLT': 36, 'SPY': 35, 'PIC': 35, 'RKT': 32, 'SBUX': 32, 'SPG': 31, 'SNDL': 31, 'ZVZZT': 30, 'KXIN': 30, 'UBER': 29, 'NLS': 27, 'TWTR': 27, 'TMV': 24, 'FUBO': 23, 'MAC': 22, 'IWM': 21, 'GTT': 16, 'TTCF': 16, 'SPWR': 14, 'F': 14, 'YY': 14, 'UVV': 14, 'GE': 12, 'BKNG': 12, 'FTCH': 12, 'NDXP': 11, 'AMC': 10, 'SLV': 10, 'SLG': 10, 'NVDA': 10, 'BSX': 10, 'RVLV': 10, 'IBIO': 10, 'COP': 9, 'ALL': 8, 'WRI': 7, 'RCL': 7, 'HR': 7, 'CVS': 6, 'GD': 6, 'JBLU': 6, 'KR': 6, 'WHR': 6, 'WMB': 6, 'UDR': 6, 'SOLO': 6, 'TBT': 6, 'CB': 5, 'MUR': 5, 'VXRT': 5, 'SRE': 5, 'T': 5, 'USM': 4, 'ADM': 3, 'HAS': 3, 'JPM': 3, 'MET': 3, 'RAD': 3, 'AIG': 3, 'MCK': 3, 'TRV': 3, 'AVB': 3, 'BAC': 3, 'C': 3, 'CVX': 3, 'HIG': 3, 'KIM': 3, 'L': 3, 'PRU': 3, 'TAP': 3, 'XOM': 3, 'BMY': 3, 'CI': 3, 'LLY': 3, 'AEP': 3, 'OKE': 3, 'EMN': 3, 'LPX': 3, 'AMGN': 3, 'GS': 3, 'NI': 3, 'CSCO': 3, 'MMC': 3, 'MO': 3, 'AMKR': 3, 'DHR': 3, 'MMP': 3, 'WFC': 3, 'AVT': 3, 'CAH': 3})\n"
          ],
          "name": "stdout"
        }
      ]
    },
    {
      "cell_type": "code",
      "metadata": {
        "id": "eTCzjH-msJLR",
        "colab": {
          "base_uri": "https://localhost:8080/"
        },
        "outputId": "b3b63dc0-6373-441c-b853-a4ee479b4095"
      },
      "source": [
        "#Time at which most of the activity happened.\r\n",
        "print(\"Day of month with most activity is 24: \", days_count[24])\r\n",
        "print(\"Hour of day with most activity is 16: \", hours_count[16])\r\n",
        "print(\"Day of Week with most activity is 1: \", weekday_df['Activity'][3])"
      ],
      "execution_count": 97,
      "outputs": [
        {
          "output_type": "stream",
          "text": [
            "Day of month with most activity is 24:  51857\n",
            "Hour of day with most activity is 16:  68378\n",
            "Day of Week with most activity is 1:  97687\n"
          ],
          "name": "stdout"
        }
      ]
    },
    {
      "cell_type": "code",
      "metadata": {
        "id": "WUphzCSbsNln"
      },
      "source": [
        "#How many executions from a specific destination.\r\n"
      ],
      "execution_count": 94,
      "outputs": []
    },
    {
      "cell_type": "code",
      "metadata": {
        "id": "xj07u4G7zmAz"
      },
      "source": [
        "#Latency/time taken by any destination after accepting the order and completely filling the order."
      ],
      "execution_count": 95,
      "outputs": []
    }
  ]
}